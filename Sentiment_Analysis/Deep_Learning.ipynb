{
  "nbformat": 4,
  "nbformat_minor": 0,
  "metadata": {
    "colab": {
      "name": "Sentiment_DL.ipynb",
      "version": "0.3.2",
      "provenance": [],
      "toc_visible": true
    },
    "kernelspec": {
      "name": "python3",
      "display_name": "Python 3"
    },
    "accelerator": "GPU"
  },
  "cells": [
    {
      "metadata": {
        "colab_type": "code",
        "id": "4lLR3rl8SKDF",
        "colab": {}
      },
      "cell_type": "code",
      "source": [
        "import os \n",
        "import sys\n",
        "import matplotlib.pyplot as plt \n",
        "import numpy as np\n",
        "from keras.preprocessing.text import Tokenizer\n",
        "from keras.preprocessing.sequence import pad_sequences\n",
        "from keras.utils import to_categorical\n",
        "from keras.layers import Dense,Input,GlobalMaxPooling1D\n",
        "from keras.layers import Conv1D , MaxPool1D , Embedding,Concatenate, CuDNNLSTM  as LSTM ,Flatten, Dropout  , Bidirectional\n",
        "from keras.models import Model\n",
        "from keras.initializers import Constant\n",
        "from keras.callbacks import LearningRateScheduler, ModelCheckpoint"
      ],
      "execution_count": 0,
      "outputs": []
    },
    {
      "metadata": {
        "colab_type": "text",
        "id": "2E4R-6JKSJHE"
      },
      "cell_type": "markdown",
      "source": [
        "## Fetch Data "
      ]
    },
    {
      "metadata": {
        "id": "WetLMn0HGLAt",
        "colab_type": "text"
      },
      "cell_type": "markdown",
      "source": [
        "### Fetch GloVe"
      ]
    },
    {
      "metadata": {
        "id": "yh4VCdAjHclI",
        "colab_type": "text"
      },
      "cell_type": "markdown",
      "source": [
        "** What is GloVE**\n",
        "- https://nlp.stanford.edu/projects/glove/\n",
        "- https://nlp.stanford.edu/pubs/glove.pdf"
      ]
    },
    {
      "metadata": {
        "id": "xEUa8qeYFcDA",
        "colab_type": "text"
      },
      "cell_type": "markdown",
      "source": [
        "**Twitter (2B tweets, 27B tokens, 1.2M vocab, uncased, 200d vectors, 1.42 GB download)**"
      ]
    },
    {
      "metadata": {
        "id": "hjs0KIS3Q34F",
        "colab_type": "code",
        "colab": {}
      },
      "cell_type": "code",
      "source": [
        "!wget http://nlp.stanford.edu/data/glove.twitter.27B.zip\n",
        "!unzip glove.twitter.27B.zip"
      ],
      "execution_count": 0,
      "outputs": []
    },
    {
      "metadata": {
        "id": "SPuUw5CvFTIt",
        "colab_type": "text"
      },
      "cell_type": "markdown",
      "source": [
        "**Common Crawl (840B tokens, 2.2M vocab, cased, 300d vectors, 2.03 GB download)**"
      ]
    },
    {
      "metadata": {
        "id": "96xNanBGlij1",
        "colab_type": "code",
        "colab": {}
      },
      "cell_type": "code",
      "source": [
        "!wget http://nlp.stanford.edu/data/glove.840B.300d.zip\n",
        "!unzip glove.840B.300d.zip"
      ],
      "execution_count": 0,
      "outputs": []
    },
    {
      "metadata": {
        "id": "5GbdUgQyGcIR",
        "colab_type": "text"
      },
      "cell_type": "markdown",
      "source": [
        "**Wikipedia 2014 + Gigaword 5 (6B tokens, 400K vocab, uncased, 300d vectors, 822 MB download)**"
      ]
    },
    {
      "metadata": {
        "id": "CNgj3SKiGbpp",
        "colab_type": "code",
        "outputId": "92824638-36b4-48eb-db71-8eb01c5013ca",
        "colab": {
          "base_uri": "https://localhost:8080/",
          "height": 357
        }
      },
      "cell_type": "code",
      "source": [
        "!wget http://nlp.stanford.edu/data/glove.6B.zip\n",
        "!unzip glove.6B.zip"
      ],
      "execution_count": 0,
      "outputs": [
        {
          "output_type": "stream",
          "text": [
            "--2018-12-07 00:44:02--  http://nlp.stanford.edu/data/glove.6B.zip\n",
            "Resolving nlp.stanford.edu (nlp.stanford.edu)... 171.64.67.140\n",
            "Connecting to nlp.stanford.edu (nlp.stanford.edu)|171.64.67.140|:80... connected.\n",
            "HTTP request sent, awaiting response... 302 Found\n",
            "Location: https://nlp.stanford.edu/data/glove.6B.zip [following]\n",
            "--2018-12-07 00:44:08--  https://nlp.stanford.edu/data/glove.6B.zip\n",
            "Connecting to nlp.stanford.edu (nlp.stanford.edu)|171.64.67.140|:443... connected.\n",
            "HTTP request sent, awaiting response... 200 OK\n",
            "Length: 862182613 (822M) [application/zip]\n",
            "Saving to: ‘glove.6B.zip’\n",
            "\n",
            "glove.6B.zip        100%[===================>] 822.24M  17.8MB/s    in 1m 42s  \n",
            "\n",
            "2018-12-07 00:45:50 (8.06 MB/s) - ‘glove.6B.zip’ saved [862182613/862182613]\n",
            "\n",
            "Archive:  glove.6B.zip\n",
            "  inflating: glove.6B.50d.txt        \n",
            "  inflating: glove.6B.100d.txt       \n",
            "  inflating: glove.6B.200d.txt       \n",
            "  inflating: glove.6B.300d.txt       \n"
          ],
          "name": "stdout"
        }
      ]
    },
    {
      "metadata": {
        "id": "dasNeOG8Fmp0",
        "colab_type": "text"
      },
      "cell_type": "markdown",
      "source": [
        "### Fetch  Imdb  Data\n",
        "\n",
        "- http://ai.stanford.edu/~amaas/data/sentiment/\n",
        "- http://ai.stanford.edu/~amaas/papers/wvSent_acl2011.pdf "
      ]
    },
    {
      "metadata": {
        "id": "hvMY2_rXlij5",
        "colab_type": "code",
        "outputId": "e1e7082d-3c28-4eba-d30b-a752df827840",
        "colab": {
          "base_uri": "https://localhost:8080/",
          "height": 204
        }
      },
      "cell_type": "code",
      "source": [
        "!wget http://ai.stanford.edu/~amaas/data/sentiment/aclImdb_v1.tar.gz"
      ],
      "execution_count": 0,
      "outputs": [
        {
          "output_type": "stream",
          "text": [
            "--2018-12-07 00:48:21--  http://ai.stanford.edu/~amaas/data/sentiment/aclImdb_v1.tar.gz\n",
            "Resolving ai.stanford.edu (ai.stanford.edu)... 171.64.68.10\n",
            "Connecting to ai.stanford.edu (ai.stanford.edu)|171.64.68.10|:80... connected.\n",
            "HTTP request sent, awaiting response... 200 OK\n",
            "Length: 84125825 (80M) [application/x-gzip]\n",
            "Saving to: ‘aclImdb_v1.tar.gz’\n",
            "\n",
            "aclImdb_v1.tar.gz   100%[===================>]  80.23M  18.0MB/s    in 7.4s    \n",
            "\n",
            "2018-12-07 00:48:29 (10.8 MB/s) - ‘aclImdb_v1.tar.gz’ saved [84125825/84125825]\n",
            "\n"
          ],
          "name": "stdout"
        }
      ]
    },
    {
      "metadata": {
        "id": "dVjs2UghlikB",
        "colab_type": "code",
        "colab": {}
      },
      "cell_type": "code",
      "source": [
        "import tarfile\n",
        "\n",
        "t=tarfile.open(\"aclImdb_v1.tar.gz\")\n",
        "\n",
        "t.extractall()"
      ],
      "execution_count": 0,
      "outputs": []
    },
    {
      "metadata": {
        "id": "1MkgBwfympNo",
        "colab_type": "code",
        "outputId": "4079287e-9c89-4cbf-9f18-3b57444db9a4",
        "colab": {
          "base_uri": "https://localhost:8080/",
          "height": 34
        }
      },
      "cell_type": "code",
      "source": [
        "os.listdir(\"aclImdb/train/pos\")[:2]"
      ],
      "execution_count": 0,
      "outputs": [
        {
          "output_type": "execute_result",
          "data": {
            "text/plain": [
              "['10497_8.txt', '4188_8.txt']"
            ]
          },
          "metadata": {
            "tags": []
          },
          "execution_count": 5
        }
      ]
    },
    {
      "metadata": {
        "colab_type": "text",
        "id": "nahfBtXnUdpf"
      },
      "cell_type": "markdown",
      "source": [
        "\n",
        "## Preprocessing Data"
      ]
    },
    {
      "metadata": {
        "colab_type": "code",
        "id": "ej5N4TaMUk7O",
        "colab": {}
      },
      "cell_type": "code",
      "source": [
        "base_dir=\"\"\n",
        "glove_dir=\"glove.6B.100d.txt\"\n",
        "text_data_dir=\"aclImdb/train\"\n",
        "max_sequence_length=500\n",
        "max_num_words=5000\n",
        "embedding_dim=100\n",
        "validation_split=0.1"
      ],
      "execution_count": 0,
      "outputs": []
    },
    {
      "metadata": {
        "colab_type": "text",
        "id": "NT0ThIBXQSZd"
      },
      "cell_type": "markdown",
      "source": [
        "### Indexing Word Vectors"
      ]
    },
    {
      "metadata": {
        "colab_type": "code",
        "id": "qjAuWsXgS9dx",
        "outputId": "e78c5a59-e2e2-41f9-cbda-13f38a4e61b0",
        "colab": {
          "base_uri": "https://localhost:8080/",
          "height": 34
        }
      },
      "cell_type": "code",
      "source": [
        "embedding_index={}\n",
        "with open(glove_dir) as f:\n",
        "    for line in f:\n",
        "        values=line.split(\" \")\n",
        "        word=values[0]\n",
        "        coefs=np.asarray(values[1:],dtype=\"float32\")\n",
        "        embedding_index[word]=coefs\n",
        "print(\"embedding vector size :\",len(embedding_index))"
      ],
      "execution_count": 5,
      "outputs": [
        {
          "output_type": "stream",
          "text": [
            "embedding vector size : 400000\n"
          ],
          "name": "stdout"
        }
      ]
    },
    {
      "metadata": {
        "id": "82TTR6RulikX",
        "colab_type": "code",
        "outputId": "4802587e-a799-4a25-faa5-e72068bc1204",
        "colab": {
          "base_uri": "https://localhost:8080/",
          "height": 85
        }
      },
      "cell_type": "code",
      "source": [
        "embedding_index.get(\"user\")[:20]"
      ],
      "execution_count": 0,
      "outputs": [
        {
          "output_type": "execute_result",
          "data": {
            "text/plain": [
              "array([-0.53907 ,  0.033098,  0.52285 ,  0.026693,  0.61981 ,  0.52334 ,\n",
              "       -0.40875 , -0.030037,  0.78697 ,  0.029269,  0.20407 , -0.39216 ,\n",
              "        0.12381 , -1.2211  ,  0.42551 ,  0.55187 ,  0.35793 ,  0.51613 ,\n",
              "       -0.17932 ,  0.38599 ], dtype=float32)"
            ]
          },
          "metadata": {
            "tags": []
          },
          "execution_count": 8
        }
      ]
    },
    {
      "metadata": {
        "colab_type": "text",
        "id": "8Z3yJZp3Uwzd"
      },
      "cell_type": "markdown",
      "source": [
        "### Processing Text Dataset"
      ]
    },
    {
      "metadata": {
        "id": "0VqQQwMYlikf",
        "colab_type": "code",
        "colab": {}
      },
      "cell_type": "code",
      "source": [
        "classes=[\"neg\",\"pos\"]\n",
        "\n",
        "\n",
        "data=[]\n",
        "labels=[]\n",
        "labels_index={\"neg\":0,\"pos\":1}\n",
        "state=0\n",
        "for curr_class in classes:\n",
        "    dirname=os.path.join(text_data_dir,curr_class)\n",
        "    for name in os.listdir(dirname):\n",
        "        with open(os.path.join(dirname,name),\"r\") as f:\n",
        "            content=f.read()\n",
        "            data.append(content)\n",
        "            labels.append(state)\n",
        "    state+=1\n"
      ],
      "execution_count": 0,
      "outputs": []
    },
    {
      "metadata": {
        "id": "rV6ZwK4blikk",
        "colab_type": "code",
        "outputId": "1bfbc656-95b0-40a3-acb1-4f2ac0c7f705",
        "colab": {
          "base_uri": "https://localhost:8080/",
          "height": 34
        }
      },
      "cell_type": "code",
      "source": [
        "len(labels),len(data)"
      ],
      "execution_count": 0,
      "outputs": [
        {
          "output_type": "execute_result",
          "data": {
            "text/plain": [
              "(25000, 25000)"
            ]
          },
          "metadata": {
            "tags": []
          },
          "execution_count": 10
        }
      ]
    },
    {
      "metadata": {
        "colab_type": "code",
        "id": "o_MZAavkeV13",
        "outputId": "a1065497-bff4-440e-b9fd-5b7862815e5c",
        "colab": {
          "base_uri": "https://localhost:8080/",
          "height": 88
        }
      },
      "cell_type": "code",
      "source": [
        "print(labels[1],\"\\n\") # 0:negative ,1:positive\n",
        "print(data[1])\n"
      ],
      "execution_count": 0,
      "outputs": [
        {
          "output_type": "stream",
          "text": [
            "0 \n",
            "\n",
            "When I was a teen-ager seeing this film for the first time, I thought it was one of the best movies ever made. Of course, the reason for that is Bo Derek and her various states of undress in this film. However, now that I'm older, I can honestly say that this film is awful. Mind you, Bo Derek is absolutely incredibly beautiful, and she and husband-director John Derek make sure you see plenty of her. But when you take that aspect out of the film, it becomes one big dull ride. And Tarzan, well, he's all muscular like you think he should be, but when he sees Jane (that's Bo, of course) for the first time, he doesn't know what to think. This despite the fact that Bo is wearing a wet see-thru shirt, with her breast prominently displayed. Tarzan would be the only primitive man on the planet who would have that problem. If you are looking for a movie to slobber over a beautiful naked body, then this might fill the ticket. If you are looking for a thoughtful, entertaining and worth-while film, go elsewhere...almost anywhere else at that!!!\n"
          ],
          "name": "stdout"
        }
      ]
    },
    {
      "metadata": {
        "colab_type": "text",
        "id": "jp3smg8dZHWS"
      },
      "cell_type": "markdown",
      "source": [
        "### Tokenizer "
      ]
    },
    {
      "metadata": {
        "colab_type": "code",
        "id": "WZppPWXGZK4a",
        "colab": {}
      },
      "cell_type": "code",
      "source": [
        "tokenizer=Tokenizer(num_words=max_num_words)\n",
        "tokenizer.fit_on_texts(data)\n",
        "sequences=tokenizer.texts_to_sequences(data)"
      ],
      "execution_count": 0,
      "outputs": []
    },
    {
      "metadata": {
        "colab_type": "code",
        "id": "5kyEYfpIZuL6",
        "outputId": "fb9a741e-d063-4dd1-aca0-204bda7ab78f",
        "colab": {
          "base_uri": "https://localhost:8080/",
          "height": 51
        }
      },
      "cell_type": "code",
      "source": [
        "word_index = tokenizer.word_index\n",
        "print(\"length word index : \", len(word_index))\n",
        "word_index[\"apple\"],word_index[\"name\"],word_index[\"knife\"]"
      ],
      "execution_count": 8,
      "outputs": [
        {
          "output_type": "stream",
          "text": [
            "length word index :  88582\n"
          ],
          "name": "stdout"
        },
        {
          "output_type": "execute_result",
          "data": {
            "text/plain": [
              "(7595, 401, 3192)"
            ]
          },
          "metadata": {
            "tags": []
          },
          "execution_count": 8
        }
      ]
    },
    {
      "metadata": {
        "colab_type": "code",
        "id": "MxJcnA1iabrI",
        "outputId": "85f4d0e2-6faa-4055-e0a0-cb3a0cabd738",
        "colab": {
          "base_uri": "https://localhost:8080/",
          "height": 34
        }
      },
      "cell_type": "code",
      "source": [
        "max([ len(s ) for s in sequences]) # max length text"
      ],
      "execution_count": 9,
      "outputs": [
        {
          "output_type": "execute_result",
          "data": {
            "text/plain": [
              "1973"
            ]
          },
          "metadata": {
            "tags": []
          },
          "execution_count": 9
        }
      ]
    },
    {
      "metadata": {
        "colab_type": "code",
        "id": "wNBg94tbbtiX",
        "outputId": "a61fc73b-e297-4d49-866f-ec1778ca8648",
        "colab": {
          "base_uri": "https://localhost:8080/",
          "height": 347
        }
      },
      "cell_type": "code",
      "source": [
        "lengths=[len(s) for s in sequences]\n",
        "\n",
        "plt.hist(lengths,bins=50)\n",
        "plt.show()"
      ],
      "execution_count": 10,
      "outputs": [
        {
          "output_type": "display_data",
          "data": {
            "image/png": "[encoded data removed]",
            "text/plain": [
              "<matplotlib.figure.Figure at 0x7f6c8c563d30>"
            ]
          },
          "metadata": {
            "tags": []
          }
        }
      ]
    },
    {
      "metadata": {
        "colab_type": "text",
        "id": "K0pDyR82yH3H"
      },
      "cell_type": "markdown",
      "source": [
        "### Split Data"
      ]
    },
    {
      "metadata": {
        "colab_type": "code",
        "id": "j6JbEeUvb58i",
        "outputId": "e377f0be-ee75-4a1d-f1e3-83e4801bb07c",
        "colab": {
          "base_uri": "https://localhost:8080/",
          "height": 34
        }
      },
      "cell_type": "code",
      "source": [
        "data = pad_sequences(sequences, maxlen=max_sequence_length)\n",
        "data.shape"
      ],
      "execution_count": 11,
      "outputs": [
        {
          "output_type": "execute_result",
          "data": {
            "text/plain": [
              "(25000, 500)"
            ]
          },
          "metadata": {
            "tags": []
          },
          "execution_count": 11
        }
      ]
    },
    {
      "metadata": {
        "colab_type": "code",
        "id": "o8-Jg6jAyCpC",
        "outputId": "9049af7d-75c2-40b8-fcd1-b19c7846d444",
        "colab": {
          "base_uri": "https://localhost:8080/",
          "height": 34
        }
      },
      "cell_type": "code",
      "source": [
        "labels=to_categorical(np.asarray(labels))\n",
        "labels.shape"
      ],
      "execution_count": 12,
      "outputs": [
        {
          "output_type": "execute_result",
          "data": {
            "text/plain": [
              "(25000, 2)"
            ]
          },
          "metadata": {
            "tags": []
          },
          "execution_count": 12
        }
      ]
    },
    {
      "metadata": {
        "id": "4BVV05h9TH7k",
        "colab_type": "code",
        "colab": {}
      },
      "cell_type": "code",
      "source": [
        "labels=np.asarray(labels)"
      ],
      "execution_count": 0,
      "outputs": []
    },
    {
      "metadata": {
        "colab_type": "code",
        "id": "noeQpcqWyUaX",
        "outputId": "61cd46e4-1d33-406a-fb3a-836ac0944347",
        "colab": {
          "base_uri": "https://localhost:8080/",
          "height": 34
        }
      },
      "cell_type": "code",
      "source": [
        "indices=np.arange(data.shape[0])\n",
        "np.random.shuffle(indices)\n",
        "data=data[indices]\n",
        "labels=labels[indices]\n",
        "\n",
        "num_validation_samples=int(data.shape[0]*validation_split)\n",
        "num_validation_samples"
      ],
      "execution_count": 14,
      "outputs": [
        {
          "output_type": "execute_result",
          "data": {
            "text/plain": [
              "2500"
            ]
          },
          "metadata": {
            "tags": []
          },
          "execution_count": 14
        }
      ]
    },
    {
      "metadata": {
        "colab_type": "code",
        "id": "6-LH-jIcyUSW",
        "colab": {}
      },
      "cell_type": "code",
      "source": [
        "x_train=data[num_validation_samples:]\n",
        "y_train=labels[num_validation_samples:]\n",
        "\n",
        "x_val=data[:num_validation_samples]\n",
        "y_val=labels[:num_validation_samples]"
      ],
      "execution_count": 0,
      "outputs": []
    },
    {
      "metadata": {
        "colab_type": "code",
        "id": "Jom6LU7QyUIq",
        "outputId": "d22b47ea-7463-423e-a460-d82c92257d29",
        "colab": {
          "base_uri": "https://localhost:8080/",
          "height": 34
        }
      },
      "cell_type": "code",
      "source": [
        "x_train.shape,y_train.shape,x_val.shape,y_val.shape"
      ],
      "execution_count": 16,
      "outputs": [
        {
          "output_type": "execute_result",
          "data": {
            "text/plain": [
              "((22500, 500), (22500, 2), (2500, 500), (2500, 2))"
            ]
          },
          "metadata": {
            "tags": []
          },
          "execution_count": 16
        }
      ]
    },
    {
      "metadata": {
        "colab_type": "text",
        "id": "Km9KZkQwd6rr"
      },
      "cell_type": "markdown",
      "source": [
        "### Prepare Embedding Matrix"
      ]
    },
    {
      "metadata": {
        "colab_type": "code",
        "id": "lexrb29-fGmn",
        "outputId": "452eefdb-90c1-4488-cbaf-0fcb7f904807",
        "colab": {
          "base_uri": "https://localhost:8080/",
          "height": 34
        }
      },
      "cell_type": "code",
      "source": [
        "num_words=min(max_num_words,len(word_index))+1\n",
        "num_words"
      ],
      "execution_count": 17,
      "outputs": [
        {
          "output_type": "execute_result",
          "data": {
            "text/plain": [
              "5001"
            ]
          },
          "metadata": {
            "tags": []
          },
          "execution_count": 17
        }
      ]
    },
    {
      "metadata": {
        "colab_type": "code",
        "id": "l74tV9OhfGyj",
        "outputId": "e283990f-a2c1-4bb0-86a3-200745f38df3",
        "colab": {
          "base_uri": "https://localhost:8080/",
          "height": 34
        }
      },
      "cell_type": "code",
      "source": [
        "embedding_matrix=np.zeros((num_words,embedding_dim))\n",
        "embedding_matrix.shape"
      ],
      "execution_count": 18,
      "outputs": [
        {
          "output_type": "execute_result",
          "data": {
            "text/plain": [
              "(5001, 100)"
            ]
          },
          "metadata": {
            "tags": []
          },
          "execution_count": 18
        }
      ]
    },
    {
      "metadata": {
        "colab_type": "code",
        "id": "e_X4WespfG8H",
        "colab": {}
      },
      "cell_type": "code",
      "source": [
        "for word, i in word_index.items():\n",
        "    if i > max_num_words :\n",
        "        print\n",
        "        continue\n",
        "    embedding_vector = embedding_index.get(word)\n",
        "    if embedding_vector is not None:\n",
        "        # words not found in embedding index will be all-zeros.\n",
        "        embedding_matrix[i] = embedding_vector"
      ],
      "execution_count": 0,
      "outputs": []
    },
    {
      "metadata": {
        "colab_type": "code",
        "id": "yySTToJtjm54",
        "outputId": "5c3b6e32-a604-4980-aa83-64fdb6cd7263",
        "colab": {
          "base_uri": "https://localhost:8080/",
          "height": 34
        }
      },
      "cell_type": "code",
      "source": [
        "embedding_matrix.shape"
      ],
      "execution_count": 20,
      "outputs": [
        {
          "output_type": "execute_result",
          "data": {
            "text/plain": [
              "(5001, 100)"
            ]
          },
          "metadata": {
            "tags": []
          },
          "execution_count": 20
        }
      ]
    },
    {
      "metadata": {
        "colab_type": "text",
        "id": "bctDnjGbj-Sk"
      },
      "cell_type": "markdown",
      "source": [
        "## Train Model"
      ]
    },
    {
      "metadata": {
        "colab_type": "code",
        "id": "sBp4jYbdl4Gf",
        "outputId": "3ce73cd0-14c6-46fa-a63a-ed06df5dea65",
        "colab": {
          "base_uri": "https://localhost:8080/",
          "height": 34
        }
      },
      "cell_type": "code",
      "source": [
        "embedding_layer=Embedding(num_words,embedding_dim,\n",
        "                          embeddings_initializer=Constant(embedding_matrix),\n",
        "                          input_length=max_sequence_length,\n",
        "                          trainable=False)# this is important\n",
        "embedding_layer.input_dim"
      ],
      "execution_count": 21,
      "outputs": [
        {
          "output_type": "execute_result",
          "data": {
            "text/plain": [
              "5001"
            ]
          },
          "metadata": {
            "tags": []
          },
          "execution_count": 21
        }
      ]
    },
    {
      "metadata": {
        "id": "mdeXSBEgmy2I",
        "colab_type": "code",
        "colab": {}
      },
      "cell_type": "code",
      "source": [
        "# without embedding matrix\n",
        "\n",
        "embedding_layer=Embedding(num_words,embedding_dim,input_length=max_sequence_length)"
      ],
      "execution_count": 0,
      "outputs": []
    },
    {
      "metadata": {
        "id": "WCz3dcd1yfUs",
        "colab_type": "text"
      },
      "cell_type": "markdown",
      "source": [
        "### Model "
      ]
    },
    {
      "metadata": {
        "id": "U9J1-IN1vvgs",
        "colab_type": "code",
        "outputId": "9bd7b542-4b09-423a-c4ef-ec8939b7c56e",
        "colab": {
          "base_uri": "https://localhost:8080/",
          "height": 340
        }
      },
      "cell_type": "code",
      "source": [
        "sequence_input=Input(shape=(max_sequence_length,),dtype=\"int32\")\n",
        "embedded_sequence=embedding_layer(sequence_input)\n",
        "x= Bidirectional(LSTM(64, return_sequences=True))(embedded_sequence)\n",
        "x= Dropout(0.2)(x)\n",
        "x = GlobalMaxPooling1D()(x)\n",
        "preds = Dense(2, activation=\"softmax\")(x)\n",
        "model=Model(sequence_input,preds)\n",
        "model.summary()"
      ],
      "execution_count": 31,
      "outputs": [
        {
          "output_type": "stream",
          "text": [
            "_________________________________________________________________\n",
            "Layer (type)                 Output Shape              Param #   \n",
            "=================================================================\n",
            "input_4 (InputLayer)         (None, 500)               0         \n",
            "_________________________________________________________________\n",
            "embedding_1 (Embedding)      (None, 500, 100)          500100    \n",
            "_________________________________________________________________\n",
            "bidirectional_4 (Bidirection (None, 500, 128)          84992     \n",
            "_________________________________________________________________\n",
            "dropout_4 (Dropout)          (None, 500, 128)          0         \n",
            "_________________________________________________________________\n",
            "global_max_pooling1d_4 (Glob (None, 128)               0         \n",
            "_________________________________________________________________\n",
            "dense_4 (Dense)              (None, 2)                 258       \n",
            "=================================================================\n",
            "Total params: 585,350\n",
            "Trainable params: 85,250\n",
            "Non-trainable params: 500,100\n",
            "_________________________________________________________________\n"
          ],
          "name": "stdout"
        }
      ]
    },
    {
      "metadata": {
        "id": "q-j6K25wyXA7",
        "colab_type": "text"
      },
      "cell_type": "markdown",
      "source": [
        "### Fit Model"
      ]
    },
    {
      "metadata": {
        "id": "tmomdpKQNuHj",
        "colab_type": "code",
        "colab": {
          "base_uri": "https://localhost:8080/",
          "height": 1411
        },
        "outputId": "b9e7cdd9-78b8-4f58-cbcf-7c2b8f16ed5b"
      },
      "cell_type": "code",
      "source": [
        "import math\n",
        "from keras.optimizers import rmsprop, adam\n",
        "\n",
        "\n",
        "def LRDropping(epoch):\n",
        "  initial_lrate=0.001\n",
        "  drop=0.8\n",
        "  epochs_drop=3.0\n",
        "  lrate = initial_lrate * math.pow(drop, math.floor((1+epoch)/epochs_drop))\n",
        "  return lrate\n",
        "\n",
        "LRDrop = LearningRateScheduler(LRDropping)\n",
        "\n",
        "model.compile(loss=\"categorical_crossentropy\",\n",
        "             optimizer=\"rmsprop\",\n",
        "             metrics=[\"accuracy\"])\n",
        "\n",
        "model.fit(x_train,y_train,\n",
        "         batch_size=128,\n",
        "         epochs=40,\n",
        "         validation_data=[x_val,y_val],\n",
        "         callbacks=[LRDrop])"
      ],
      "execution_count": 32,
      "outputs": [
        {
          "output_type": "stream",
          "text": [
            "Train on 22500 samples, validate on 2500 samples\n",
            "Epoch 1/40\n",
            "22500/22500 [==============================] - 28s 1ms/step - loss: 0.5574 - acc: 0.7062 - val_loss: 0.4603 - val_acc: 0.8112\n",
            "Epoch 2/40\n",
            "22500/22500 [==============================] - 26s 1ms/step - loss: 0.4078 - acc: 0.8167 - val_loss: 0.4293 - val_acc: 0.7988\n",
            "Epoch 3/40\n",
            "22500/22500 [==============================] - 27s 1ms/step - loss: 0.3475 - acc: 0.8500 - val_loss: 0.3658 - val_acc: 0.8480\n",
            "Epoch 4/40\n",
            "22500/22500 [==============================] - 26s 1ms/step - loss: 0.3242 - acc: 0.8610 - val_loss: 0.3529 - val_acc: 0.8500\n",
            "Epoch 5/40\n",
            "22500/22500 [==============================] - 26s 1ms/step - loss: 0.3031 - acc: 0.8709 - val_loss: 0.3351 - val_acc: 0.8528\n",
            "Epoch 6/40\n",
            "22500/22500 [==============================] - 27s 1ms/step - loss: 0.2798 - acc: 0.8838 - val_loss: 0.3245 - val_acc: 0.8588\n",
            "Epoch 7/40\n",
            "22500/22500 [==============================] - 27s 1ms/step - loss: 0.2685 - acc: 0.8874 - val_loss: 0.3167 - val_acc: 0.8644\n",
            "Epoch 8/40\n",
            "22500/22500 [==============================] - 27s 1ms/step - loss: 0.2575 - acc: 0.8938 - val_loss: 0.3072 - val_acc: 0.8700\n",
            "Epoch 9/40\n",
            "22500/22500 [==============================] - 27s 1ms/step - loss: 0.2423 - acc: 0.9016 - val_loss: 0.3113 - val_acc: 0.8696\n",
            "Epoch 10/40\n",
            "22500/22500 [==============================] - 27s 1ms/step - loss: 0.2321 - acc: 0.9063 - val_loss: 0.2993 - val_acc: 0.8708\n",
            "Epoch 11/40\n",
            "22500/22500 [==============================] - 27s 1ms/step - loss: 0.2255 - acc: 0.9091 - val_loss: 0.2949 - val_acc: 0.8736\n",
            "Epoch 12/40\n",
            "22500/22500 [==============================] - 27s 1ms/step - loss: 0.2120 - acc: 0.9165 - val_loss: 0.2932 - val_acc: 0.8760\n",
            "Epoch 13/40\n",
            "22500/22500 [==============================] - 27s 1ms/step - loss: 0.2058 - acc: 0.9186 - val_loss: 0.3116 - val_acc: 0.8648\n",
            "Epoch 14/40\n",
            "22500/22500 [==============================] - 27s 1ms/step - loss: 0.1986 - acc: 0.9224 - val_loss: 0.2998 - val_acc: 0.8696\n",
            "Epoch 15/40\n",
            "22500/22500 [==============================] - 27s 1ms/step - loss: 0.1891 - acc: 0.9275 - val_loss: 0.2914 - val_acc: 0.8760\n",
            "Epoch 16/40\n",
            "22500/22500 [==============================] - 27s 1ms/step - loss: 0.1819 - acc: 0.9319 - val_loss: 0.3141 - val_acc: 0.8660\n",
            "Epoch 17/40\n",
            "22500/22500 [==============================] - 27s 1ms/step - loss: 0.1774 - acc: 0.9327 - val_loss: 0.3039 - val_acc: 0.8684\n",
            "Epoch 18/40\n",
            "22500/22500 [==============================] - 27s 1ms/step - loss: 0.1689 - acc: 0.9375 - val_loss: 0.2874 - val_acc: 0.8816\n",
            "Epoch 19/40\n",
            "22500/22500 [==============================] - 26s 1ms/step - loss: 0.1644 - acc: 0.9389 - val_loss: 0.2899 - val_acc: 0.8772\n",
            "Epoch 20/40\n",
            "22500/22500 [==============================] - 26s 1ms/step - loss: 0.1597 - acc: 0.9399 - val_loss: 0.2930 - val_acc: 0.8776\n",
            "Epoch 21/40\n",
            "22500/22500 [==============================] - 27s 1ms/step - loss: 0.1531 - acc: 0.9440 - val_loss: 0.2953 - val_acc: 0.8780\n",
            "Epoch 22/40\n",
            "22500/22500 [==============================] - 27s 1ms/step - loss: 0.1494 - acc: 0.9461 - val_loss: 0.2915 - val_acc: 0.8800\n",
            "Epoch 23/40\n",
            "22500/22500 [==============================] - 27s 1ms/step - loss: 0.1449 - acc: 0.9485 - val_loss: 0.2956 - val_acc: 0.8740\n",
            "Epoch 24/40\n",
            "22500/22500 [==============================] - 27s 1ms/step - loss: 0.1386 - acc: 0.9516 - val_loss: 0.2966 - val_acc: 0.8792\n",
            "Epoch 25/40\n",
            "22500/22500 [==============================] - 27s 1ms/step - loss: 0.1357 - acc: 0.9523 - val_loss: 0.3065 - val_acc: 0.8716\n",
            "Epoch 26/40\n",
            "22500/22500 [==============================] - 27s 1ms/step - loss: 0.1319 - acc: 0.9544 - val_loss: 0.2985 - val_acc: 0.8764\n",
            "Epoch 27/40\n",
            "22500/22500 [==============================] - 27s 1ms/step - loss: 0.1275 - acc: 0.9559 - val_loss: 0.2989 - val_acc: 0.8756\n",
            "Epoch 28/40\n",
            "22500/22500 [==============================] - 27s 1ms/step - loss: 0.1245 - acc: 0.9587 - val_loss: 0.3018 - val_acc: 0.8760\n",
            "Epoch 29/40\n",
            "22500/22500 [==============================] - 27s 1ms/step - loss: 0.1232 - acc: 0.9589 - val_loss: 0.2988 - val_acc: 0.8760\n",
            "Epoch 30/40\n",
            "22500/22500 [==============================] - 27s 1ms/step - loss: 0.1185 - acc: 0.9613 - val_loss: 0.2994 - val_acc: 0.8756\n",
            "Epoch 31/40\n",
            "22500/22500 [==============================] - 27s 1ms/step - loss: 0.1165 - acc: 0.9619 - val_loss: 0.3056 - val_acc: 0.8740\n",
            "Epoch 32/40\n",
            "22500/22500 [==============================] - 26s 1ms/step - loss: 0.1145 - acc: 0.9636 - val_loss: 0.3055 - val_acc: 0.8768\n",
            "Epoch 33/40\n",
            "22500/22500 [==============================] - 27s 1ms/step - loss: 0.1113 - acc: 0.9648 - val_loss: 0.3075 - val_acc: 0.8720\n",
            "Epoch 34/40\n",
            "22500/22500 [==============================] - 27s 1ms/step - loss: 0.1091 - acc: 0.9656 - val_loss: 0.3072 - val_acc: 0.8732\n",
            "Epoch 35/40\n",
            "22500/22500 [==============================] - 27s 1ms/step - loss: 0.1077 - acc: 0.9660 - val_loss: 0.3078 - val_acc: 0.8732\n",
            "Epoch 36/40\n",
            "22500/22500 [==============================] - 27s 1ms/step - loss: 0.1052 - acc: 0.9672 - val_loss: 0.3145 - val_acc: 0.8728\n",
            "Epoch 37/40\n",
            "22500/22500 [==============================] - 27s 1ms/step - loss: 0.1038 - acc: 0.9675 - val_loss: 0.3116 - val_acc: 0.8716\n",
            "Epoch 38/40\n",
            "22500/22500 [==============================] - 27s 1ms/step - loss: 0.1013 - acc: 0.9691 - val_loss: 0.3191 - val_acc: 0.8716\n",
            "Epoch 39/40\n",
            "22500/22500 [==============================] - 27s 1ms/step - loss: 0.0993 - acc: 0.9707 - val_loss: 0.3134 - val_acc: 0.8716\n",
            "Epoch 40/40\n",
            "22500/22500 [==============================] - 27s 1ms/step - loss: 0.0986 - acc: 0.9692 - val_loss: 0.3157 - val_acc: 0.8716\n"
          ],
          "name": "stdout"
        },
        {
          "output_type": "execute_result",
          "data": {
            "text/plain": [
              "<keras.callbacks.History at 0x7f6c7ac81cc0>"
            ]
          },
          "metadata": {
            "tags": []
          },
          "execution_count": 32
        }
      ]
    },
    {
      "metadata": {
        "colab_type": "code",
        "id": "bLBxSokSz_YX",
        "colab": {}
      },
      "cell_type": "code",
      "source": [
        ""
      ],
      "execution_count": 0,
      "outputs": []
    }
  ]
}