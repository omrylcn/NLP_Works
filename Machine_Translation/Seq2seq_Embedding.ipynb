{
 "cells": [
  {
   "cell_type": "code",
   "execution_count": 1,
   "metadata": {},
   "outputs": [
    {
     "name": "stderr",
     "output_type": "stream",
     "text": [
      "Using TensorFlow backend.\n",
      "/usr/local/lib/python3.6/dist-packages/matplotlib/__init__.py:886: MatplotlibDeprecationWarning: \n",
      "examples.directory is deprecated; in the future, examples will be found relative to the 'datapath' directory.\n",
      "  \"found relative to the 'datapath' directory.\".format(key))\n"
     ]
    }
   ],
   "source": [
    "import os ,sys\n",
    "\n",
    "from keras.models import Model\n",
    "from keras.layers import Input,LSTM,GRU,Dense,Embedding,Bidirectional\n",
    "from keras.preprocessing.text import Tokenizer\n",
    "from keras.preprocessing.sequence import pad_sequences\n",
    "from keras.utils import to_categorical\n",
    "\n",
    "import numpy as np\n",
    "import matplotlib.pyplot as plt \n",
    "import seaborn as sns\n",
    "sns.set()"
   ]
  },
  {
   "cell_type": "code",
   "execution_count": 2,
   "metadata": {},
   "outputs": [],
   "source": [
    "import keras.backend as K\n",
    "\n",
    "if len(K.tensorflow_backend._get_available_gpus())>0:\n",
    "    from keras.layers import CuDNNLSTM  as LSTM\n",
    "    from keras.layers import CuDNNGRU  as GRU"
   ]
  },
  {
   "cell_type": "code",
   "execution_count": 298,
   "metadata": {},
   "outputs": [],
   "source": [
    "BATCH_SIZE=32\n",
    "EPOCHS=5\n",
    "LATENT_DIM=256\n",
    "NUM_EXAMPLES=2000\n",
    "FETC_EXAMPLES=200000\n",
    "MAX_NUM_WORDS=40000\n",
    "EMBEDDING_DIM=25\n"
   ]
  },
  {
   "cell_type": "markdown",
   "metadata": {},
   "source": [
    "## Data Part"
   ]
  },
  {
   "cell_type": "code",
   "execution_count": null,
   "metadata": {},
   "outputs": [],
   "source": [
    "# Download and unzip glove vector\n",
    "\n",
    "!wget http://nlp.stanford.edu/data/glove.6B.zip\n",
    "!unzip glove.6B.zip"
   ]
  },
  {
   "cell_type": "code",
   "execution_count": 386,
   "metadata": {
    "collapsed": true
   },
   "outputs": [
    {
     "name": "stdout",
     "output_type": "stream",
     "text": [
      "--2018-12-17 18:20:24--  http://www.manythings.org/anki/tur-eng.zip\n",
      "Resolving www.manythings.org (www.manythings.org)... 104.24.108.196, 104.24.109.196, 2606:4700:30::6818:6dc4, ...\n",
      "Connecting to www.manythings.org (www.manythings.org)|104.24.108.196|:80... connected.\n",
      "HTTP request sent, awaiting response... 200 OK\n",
      "Length: 10854834 (10M) [application/zip]\n",
      "Saving to: ‘tur-eng.zip.3’\n",
      "\n",
      "tur-eng.zip.3         0%[                    ]   2,27K  --.-KB/s    in 0s      \n",
      "\n",
      "2018-12-17 18:20:25 (199 MB/s) - Connection closed at byte 2328. Retrying.\n",
      "\n",
      "--2018-12-17 18:20:26--  (try: 2)  http://www.manythings.org/anki/tur-eng.zip\n",
      "Connecting to www.manythings.org (www.manythings.org)|104.24.108.196|:80... connected.\n",
      "HTTP request sent, awaiting response... 206 Partial Content\n",
      "Length: 10854834 (10M), 10852506 (10M) remaining [application/zip]\n",
      "Saving to: ‘tur-eng.zip.3’\n",
      "\n",
      "tur-eng.zip.3         0%[                    ]   4,63K  --.-KB/s    in 0,001s  \n",
      "\n",
      "2018-12-17 18:20:26 (2,28 MB/s) - Connection closed at byte 4743. Retrying.\n",
      "\n",
      "--2018-12-17 18:20:28--  (try: 3)  http://www.manythings.org/anki/tur-eng.zip\n",
      "Connecting to www.manythings.org (www.manythings.org)|104.24.108.196|:80... connected.\n",
      "HTTP request sent, awaiting response... 206 Partial Content\n",
      "Length: 10854834 (10M), 10850091 (10M) remaining [application/zip]\n",
      "Saving to: ‘tur-eng.zip.3’\n",
      "\n",
      "tur-eng.zip.3         0%[                    ]   6,99K  --.-KB/s    in 0s      \n",
      "\n",
      "2018-12-17 18:20:29 (7,31 MB/s) - Connection closed at byte 7158. Retrying.\n",
      "\n",
      "^C\n"
     ]
    }
   ],
   "source": [
    "# Download data\n",
    "!wget http://www.manythings.org/anki/tur-eng.zip"
   ]
  },
  {
   "cell_type": "markdown",
   "metadata": {},
   "source": [
    "## Preprocess Part"
   ]
  },
  {
   "cell_type": "code",
   "execution_count": 321,
   "metadata": {
    "scrolled": true
   },
   "outputs": [
    {
     "name": "stdout",
     "output_type": "stream",
     "text": [
      "num samples : 200000\n"
     ]
    }
   ],
   "source": [
    "# Load data \"tur.txt\"\n",
    "\n",
    "input_texts=[]\n",
    "target_texts_outputs=[]\n",
    "target_texts_inputs=[]\n",
    "\n",
    "t=0\n",
    "\n",
    "for line in open(\"tur.txt\"):\n",
    "    t+=1\n",
    "    \n",
    "    if t > FETC_EXAMPLES:\n",
    "        break\n",
    "        \n",
    "    if \"\\t\" not in line:\n",
    "        continue\n",
    "    \n",
    "    input_text,translation=line.rstrip().split(\"\\t\")\n",
    "    \n",
    "    target_text_output=translation +\" <eos>\"\n",
    "    target_text_input=\"<sos> \"+translation\n",
    "    \n",
    "    input_texts.append(input_text)\n",
    "    target_texts_outputs.append(target_text_output)\n",
    "    target_texts_inputs.append(target_text_input)\n",
    "\n",
    "print(\"num samples :\",len(input_texts))"
   ]
  },
  {
   "cell_type": "code",
   "execution_count": 322,
   "metadata": {},
   "outputs": [
    {
     "name": "stdout",
     "output_type": "stream",
     "text": [
      "2000\n",
      "2000\n"
     ]
    }
   ],
   "source": [
    "# Shuffle data\n",
    "\n",
    "indices=np.arange(FETC_EXAMPLES)\n",
    "np.random.shuffle(indices)\n",
    "\n",
    "restricted_indices=indices[:NUM_EXAMPLES]\n",
    "temporal_encoder_inputs=[]\n",
    "temporal_decoder_inputs=[]\n",
    "temporal_decoder_outputs=[]\n",
    "\n",
    "for i in range(NUM_EXAMPLES):\n",
    "    temporal_encoder_inputs.append(input_texts[restricted_indices[i]])\n",
    "    temporal_decoder_inputs.append(target_texts_inputs[restricted_indices[i]])\n",
    "    temporal_decoder_outputs.append(target_texts_outputs[restricted_indices[i]])\n",
    "\n",
    "print(len(temporal_decoder_outputs))\n",
    "print(len(temporal_encoder_inputs))"
   ]
  },
  {
   "cell_type": "code",
   "execution_count": 323,
   "metadata": {},
   "outputs": [],
   "source": [
    "input_texts=temporal_encoder_inputs\n",
    "target_texts_outputs=temporal_decoder_outputs\n",
    "target_texts_inputs=temporal_decoder_inputs"
   ]
  },
  {
   "cell_type": "code",
   "execution_count": 324,
   "metadata": {},
   "outputs": [
    {
     "data": {
      "text/plain": [
       "28"
      ]
     },
     "execution_count": 324,
     "metadata": {},
     "output_type": "execute_result"
    }
   ],
   "source": [
    "max(len(i) for i in input_texts)"
   ]
  },
  {
   "cell_type": "code",
   "execution_count": 325,
   "metadata": {},
   "outputs": [],
   "source": [
    "# Tokenizer encoder part\n",
    "\n",
    "tokenizer_inputs=Tokenizer(num_words=MAX_NUM_WORDS)\n",
    "tokenizer_inputs.fit_on_texts(input_texts)\n",
    "input_sequences=tokenizer_inputs.texts_to_sequences(input_texts)"
   ]
  },
  {
   "cell_type": "code",
   "execution_count": 326,
   "metadata": {},
   "outputs": [],
   "source": [
    "word2idx_inputs=tokenizer_inputs.word_index"
   ]
  },
  {
   "cell_type": "code",
   "execution_count": 327,
   "metadata": {},
   "outputs": [
    {
     "name": "stdout",
     "output_type": "stream",
     "text": [
      "He has a crush on this girl.\n",
      "[18, 30, 5, 919, 35, 17, 505]\n"
     ]
    }
   ],
   "source": [
    "print(input_texts[435])\n",
    "print(input_sequences[435])"
   ]
  },
  {
   "cell_type": "code",
   "execution_count": 328,
   "metadata": {},
   "outputs": [
    {
     "data": {
      "text/plain": [
       "8"
      ]
     },
     "execution_count": 328,
     "metadata": {},
     "output_type": "execute_result"
    }
   ],
   "source": [
    "max_len_input=max(len(s) for s in input_sequences)\n",
    "max_len_input"
   ]
  },
  {
   "cell_type": "code",
   "execution_count": 329,
   "metadata": {},
   "outputs": [],
   "source": [
    "# Tokenizer decoder part\n",
    "\n",
    "tokenizer_outputs=Tokenizer(num_words=MAX_NUM_WORDS)\n",
    "tokenizer_outputs.fit_on_texts(target_texts_inputs+target_texts_outputs)\n",
    "target_sequence_outputs=tokenizer_outputs.texts_to_sequences(target_texts_outputs)\n",
    "target_sequence_inputs=tokenizer_outputs.texts_to_sequences(target_texts_inputs)"
   ]
  },
  {
   "cell_type": "code",
   "execution_count": 330,
   "metadata": {},
   "outputs": [],
   "source": [
    "word2idx_outputs=tokenizer_outputs.word_index"
   ]
  },
  {
   "cell_type": "code",
   "execution_count": 331,
   "metadata": {},
   "outputs": [
    {
     "data": {
      "text/plain": [
       "2738"
      ]
     },
     "execution_count": 331,
     "metadata": {},
     "output_type": "execute_result"
    }
   ],
   "source": [
    "num_words_outputs=len(word2idx_outputs)+1 # indexing starts at 1\n",
    "num_words_outputs"
   ]
  },
  {
   "cell_type": "code",
   "execution_count": 332,
   "metadata": {},
   "outputs": [
    {
     "data": {
      "text/plain": [
       "8"
      ]
     },
     "execution_count": 332,
     "metadata": {},
     "output_type": "execute_result"
    }
   ],
   "source": [
    "max_len_target=max(len(s) for s in target_sequence_outputs)\n",
    "max_len_target"
   ]
  },
  {
   "cell_type": "code",
   "execution_count": 333,
   "metadata": {},
   "outputs": [
    {
     "name": "stdout",
     "output_type": "stream",
     "text": [
      "(2000, 8)\n",
      "[  0   0   0   0   0   0   1 719]\n"
     ]
    }
   ],
   "source": [
    "encoder_inputs = pad_sequences(input_sequences, maxlen=max_len_input)\n",
    "print(encoder_inputs.shape)\n",
    "print(encoder_inputs[1])"
   ]
  },
  {
   "cell_type": "code",
   "execution_count": 334,
   "metadata": {},
   "outputs": [
    {
     "name": "stdout",
     "output_type": "stream",
     "text": [
      "[  1   5  22 755   0   0   0   0]\n",
      "[  5  22 755   2   0   0   0   0]\n"
     ]
    }
   ],
   "source": [
    "decoder_inputs=pad_sequences(target_sequence_inputs,maxlen=max_len_target,padding=\"post\")\n",
    "decoder_targets=pad_sequences(target_sequence_outputs,maxlen=max_len_target,padding=\"post\")\n",
    "\n",
    "print(decoder_inputs[0])\n",
    "print(decoder_targets[0])"
   ]
  },
  {
   "cell_type": "code",
   "execution_count": 335,
   "metadata": {},
   "outputs": [
    {
     "name": "stdout",
     "output_type": "stream",
     "text": [
      "1193515\n"
     ]
    }
   ],
   "source": [
    "# Load word vectors\n",
    "word2vec={}\n",
    "\n",
    "with open(\"glove.twitter.27B.25d.txt\") as f:\n",
    "    \n",
    "    for line in f:\n",
    "        values=line.split()\n",
    "        word=values[0]\n",
    "        vec=np.asarray(values[1:],dtype=\"float32\")\n",
    "        word2vec[word]=vec\n",
    "\n",
    "    print(len(word2vec))"
   ]
  },
  {
   "cell_type": "code",
   "execution_count": 336,
   "metadata": {},
   "outputs": [
    {
     "name": "stdout",
     "output_type": "stream",
     "text": [
      "(1683, 25)\n"
     ]
    }
   ],
   "source": [
    "# Create embedding matrix\n",
    "\n",
    "num_words=min(MAX_NUM_WORDS,len(word2idx_inputs)+1)\n",
    "embedding_matrix=np.zeros((num_words,EMBEDDING_DIM))\n",
    "\n",
    "print(embedding_matrix.shape)\n",
    "\n",
    "for word,i in word2idx_inputs.items():\n",
    "    #print(i)\n",
    "    if i <MAX_NUM_WORDS:\n",
    "        embedding_vector=word2vec.get(word)\n",
    "        if embedding_vector is not None:\n",
    "            embedding_matrix[i]=embedding_vector"
   ]
  },
  {
   "cell_type": "code",
   "execution_count": 337,
   "metadata": {},
   "outputs": [
    {
     "data": {
      "text/plain": [
       "array([[ 0.        ,  0.        ,  0.        , ...,  0.        ,\n",
       "         0.        ,  0.        ],\n",
       "       [-0.083805  , -0.49107999,  0.86660999, ..., -0.62300003,\n",
       "        -0.034507  , -0.46177   ],\n",
       "       [-0.26078999,  0.59108001,  0.61622   , ...,  0.076869  ,\n",
       "         0.22840001,  0.27579999],\n",
       "       ...,\n",
       "       [-0.31841999,  0.68676001, -0.51459002, ..., -0.26337001,\n",
       "        -0.20295   , -0.28849   ],\n",
       "       [ 0.12692   ,  0.18545   ,  0.20181   , ...,  0.14235   ,\n",
       "        -0.32359001, -1.10210001],\n",
       "       [-1.15610003,  0.93615001,  0.36794001, ..., -0.26102   ,\n",
       "         0.42671999,  0.79075003]])"
      ]
     },
     "execution_count": 337,
     "metadata": {},
     "output_type": "execute_result"
    }
   ],
   "source": [
    "embedding_matrix"
   ]
  },
  {
   "cell_type": "code",
   "execution_count": 338,
   "metadata": {},
   "outputs": [],
   "source": [
    "# Transform decoder target vector to  one hot vector\n",
    "\n",
    "decoder_targets_one_hot=np.zeros(\n",
    "    (\n",
    "        len(input_texts),\n",
    "        max_len_target,\n",
    "        num_words_outputs\n",
    "    ),\n",
    "    dtype=\"float32\"\n",
    ")"
   ]
  },
  {
   "cell_type": "code",
   "execution_count": 339,
   "metadata": {},
   "outputs": [],
   "source": [
    "for i,d in enumerate(decoder_targets):\n",
    "    for t,word in enumerate(d):\n",
    "        decoder_targets_one_hot[i,t,word]=1"
   ]
  },
  {
   "cell_type": "markdown",
   "metadata": {},
   "source": [
    "## Model Part"
   ]
  },
  {
   "cell_type": "code",
   "execution_count": 340,
   "metadata": {},
   "outputs": [],
   "source": [
    "# embedding layer\n",
    "embedding_layer=Embedding(\n",
    "    num_words,\n",
    "    EMBEDDING_DIM,\n",
    "    weights=[embedding_matrix],\n",
    "    input_length=max_len_input,\n",
    "    #name=\"encoder_embedding\"\n",
    "    #trainable=True\n",
    ")"
   ]
  },
  {
   "cell_type": "code",
   "execution_count": 341,
   "metadata": {},
   "outputs": [],
   "source": [
    "# Encoder Part\n",
    "\n",
    "encoder_inputs_placeholder=Input(shape=(max_len_input,),name=\"encoder_inputs\")\n",
    "x=embedding_layer(encoder_inputs_placeholder)\n",
    "\n",
    "encoder_lstm=LSTM(LATENT_DIM,return_state=True,name=\"encoder_outputs\")\n",
    "encoder_outputs,h,c=encoder_lstm(x)\n"
   ]
  },
  {
   "cell_type": "code",
   "execution_count": 342,
   "metadata": {},
   "outputs": [],
   "source": [
    "encoder_states=[h,c]"
   ]
  },
  {
   "cell_type": "code",
   "execution_count": 343,
   "metadata": {},
   "outputs": [],
   "source": [
    "# Decoder Part\n",
    "\n",
    "decoder_inputs_placeholder=Input(shape=(max_len_target,),name=\"decoder_inputs\")\n",
    "decoder_embedding=Embedding(num_words_outputs,LATENT_DIM,name=\"decoder_embedding\")\n",
    "decoder_inputs_x=decoder_embedding(decoder_inputs_placeholder)\n",
    "\n",
    "decoder_lstm=LSTM(LATENT_DIM,return_sequences=True,return_state=True,name=\"decoder_outputs\")\n",
    "decoder_outputs,_,_=decoder_lstm(decoder_inputs_x,initial_state=encoder_states)\n",
    "\n",
    "decoder_dense=Dense(num_words_outputs,activation=\"softmax\",name=\"decoder_softmax\")\n",
    "decoder_outputs=decoder_dense(decoder_outputs)"
   ]
  },
  {
   "cell_type": "code",
   "execution_count": 344,
   "metadata": {},
   "outputs": [
    {
     "name": "stdout",
     "output_type": "stream",
     "text": [
      "__________________________________________________________________________________________________\n",
      "Layer (type)                    Output Shape         Param #     Connected to                     \n",
      "==================================================================================================\n",
      "encoder_inputs (InputLayer)     (None, 8)            0                                            \n",
      "__________________________________________________________________________________________________\n",
      "decoder_inputs (InputLayer)     (None, 8)            0                                            \n",
      "__________________________________________________________________________________________________\n",
      "embedding_4 (Embedding)         (None, 8, 25)        42075       encoder_inputs[0][0]             \n",
      "__________________________________________________________________________________________________\n",
      "decoder_embedding (Embedding)   (None, 8, 256)       700928      decoder_inputs[0][0]             \n",
      "__________________________________________________________________________________________________\n",
      "encoder_outputs (LSTM)          [(None, 256), (None, 288768      embedding_4[0][0]                \n",
      "__________________________________________________________________________________________________\n",
      "decoder_outputs (LSTM)          [(None, 8, 256), (No 525312      decoder_embedding[0][0]          \n",
      "                                                                 encoder_outputs[0][1]            \n",
      "                                                                 encoder_outputs[0][2]            \n",
      "__________________________________________________________________________________________________\n",
      "decoder_softmax (Dense)         (None, 8, 2738)      703666      decoder_outputs[0][0]            \n",
      "==================================================================================================\n",
      "Total params: 2,260,749\n",
      "Trainable params: 2,260,749\n",
      "Non-trainable params: 0\n",
      "__________________________________________________________________________________________________\n"
     ]
    }
   ],
   "source": [
    "# Create Model Object\n",
    "\n",
    "model=Model([encoder_inputs_placeholder,decoder_inputs_placeholder],\n",
    "            decoder_outputs)\n",
    "\n",
    "model.summary()"
   ]
  },
  {
   "cell_type": "code",
   "execution_count": 345,
   "metadata": {},
   "outputs": [
    {
     "data": {
      "image/svg+xml": [
       "<svg height=\"337pt\" viewBox=\"0.00 0.00 382.00 337.00\" width=\"382pt\" xmlns=\"http://www.w3.org/2000/svg\" xmlns:xlink=\"http://www.w3.org/1999/xlink\">\n",
       "<g class=\"graph\" id=\"graph0\" transform=\"scale(1 1) rotate(0) translate(4 333)\">\n",
       "<title>G</title>\n",
       "<polygon fill=\"white\" points=\"-4,4 -4,-333 378,-333 378,4 -4,4\" stroke=\"none\"/>\n",
       "<!-- 139944533903400 -->\n",
       "<g class=\"node\" id=\"node1\"><title>139944533903400</title>\n",
       "<polygon fill=\"none\" points=\"0,-292.5 0,-328.5 167,-328.5 167,-292.5 0,-292.5\" stroke=\"black\"/>\n",
       "<text font-family=\"Times,serif\" font-size=\"14.00\" text-anchor=\"middle\" x=\"83.5\" y=\"-306.8\">encoder_inputs: InputLayer</text>\n",
       "</g>\n",
       "<!-- 139945393068016 -->\n",
       "<g class=\"node\" id=\"node3\"><title>139945393068016</title>\n",
       "<polygon fill=\"none\" points=\"3,-219.5 3,-255.5 164,-255.5 164,-219.5 3,-219.5\" stroke=\"black\"/>\n",
       "<text font-family=\"Times,serif\" font-size=\"14.00\" text-anchor=\"middle\" x=\"83.5\" y=\"-233.8\">embedding_4: Embedding</text>\n",
       "</g>\n",
       "<!-- 139944533903400&#45;&gt;139945393068016 -->\n",
       "<g class=\"edge\" id=\"edge1\"><title>139944533903400-&gt;139945393068016</title>\n",
       "<path d=\"M83.5,-292.313C83.5,-284.289 83.5,-274.547 83.5,-265.569\" fill=\"none\" stroke=\"black\"/>\n",
       "<polygon fill=\"black\" points=\"87.0001,-265.529 83.5,-255.529 80.0001,-265.529 87.0001,-265.529\" stroke=\"black\"/>\n",
       "</g>\n",
       "<!-- 139944530913600 -->\n",
       "<g class=\"node\" id=\"node2\"><title>139944530913600</title>\n",
       "<polygon fill=\"none\" points=\"192,-219.5 192,-255.5 359,-255.5 359,-219.5 192,-219.5\" stroke=\"black\"/>\n",
       "<text font-family=\"Times,serif\" font-size=\"14.00\" text-anchor=\"middle\" x=\"275.5\" y=\"-233.8\">decoder_inputs: InputLayer</text>\n",
       "</g>\n",
       "<!-- 139944530913656 -->\n",
       "<g class=\"node\" id=\"node4\"><title>139944530913656</title>\n",
       "<polygon fill=\"none\" points=\"177,-146.5 177,-182.5 374,-182.5 374,-146.5 177,-146.5\" stroke=\"black\"/>\n",
       "<text font-family=\"Times,serif\" font-size=\"14.00\" text-anchor=\"middle\" x=\"275.5\" y=\"-160.8\">decoder_embedding: Embedding</text>\n",
       "</g>\n",
       "<!-- 139944530913600&#45;&gt;139944530913656 -->\n",
       "<g class=\"edge\" id=\"edge2\"><title>139944530913600-&gt;139944530913656</title>\n",
       "<path d=\"M275.5,-219.313C275.5,-211.289 275.5,-201.547 275.5,-192.569\" fill=\"none\" stroke=\"black\"/>\n",
       "<polygon fill=\"black\" points=\"279,-192.529 275.5,-182.529 272,-192.529 279,-192.529\" stroke=\"black\"/>\n",
       "</g>\n",
       "<!-- 139944533905304 -->\n",
       "<g class=\"node\" id=\"node5\"><title>139944533905304</title>\n",
       "<polygon fill=\"none\" points=\"8.5,-146.5 8.5,-182.5 158.5,-182.5 158.5,-146.5 8.5,-146.5\" stroke=\"black\"/>\n",
       "<text font-family=\"Times,serif\" font-size=\"14.00\" text-anchor=\"middle\" x=\"83.5\" y=\"-160.8\">encoder_outputs: LSTM</text>\n",
       "</g>\n",
       "<!-- 139945393068016&#45;&gt;139944533905304 -->\n",
       "<g class=\"edge\" id=\"edge3\"><title>139945393068016-&gt;139944533905304</title>\n",
       "<path d=\"M83.5,-219.313C83.5,-211.289 83.5,-201.547 83.5,-192.569\" fill=\"none\" stroke=\"black\"/>\n",
       "<polygon fill=\"black\" points=\"87.0001,-192.529 83.5,-182.529 80.0001,-192.529 87.0001,-192.529\" stroke=\"black\"/>\n",
       "</g>\n",
       "<!-- 139945393066672 -->\n",
       "<g class=\"node\" id=\"node6\"><title>139945393066672</title>\n",
       "<polygon fill=\"none\" points=\"104.5,-73.5 104.5,-109.5 254.5,-109.5 254.5,-73.5 104.5,-73.5\" stroke=\"black\"/>\n",
       "<text font-family=\"Times,serif\" font-size=\"14.00\" text-anchor=\"middle\" x=\"179.5\" y=\"-87.8\">decoder_outputs: LSTM</text>\n",
       "</g>\n",
       "<!-- 139944530913656&#45;&gt;139945393066672 -->\n",
       "<g class=\"edge\" id=\"edge4\"><title>139944530913656-&gt;139945393066672</title>\n",
       "<path d=\"M252.261,-146.313C239.762,-137.069 224.178,-125.543 210.642,-115.532\" fill=\"none\" stroke=\"black\"/>\n",
       "<polygon fill=\"black\" points=\"212.646,-112.661 202.525,-109.529 208.484,-118.289 212.646,-112.661\" stroke=\"black\"/>\n",
       "</g>\n",
       "<!-- 139944533905304&#45;&gt;139945393066672 -->\n",
       "<g class=\"edge\" id=\"edge5\"><title>139944533905304-&gt;139945393066672</title>\n",
       "<path d=\"M106.739,-146.313C119.238,-137.069 134.822,-125.543 148.358,-115.532\" fill=\"none\" stroke=\"black\"/>\n",
       "<polygon fill=\"black\" points=\"150.516,-118.289 156.475,-109.529 146.354,-112.661 150.516,-118.289\" stroke=\"black\"/>\n",
       "</g>\n",
       "<!-- 139944530977064 -->\n",
       "<g class=\"node\" id=\"node7\"><title>139944530977064</title>\n",
       "<polygon fill=\"none\" points=\"103.5,-0.5 103.5,-36.5 255.5,-36.5 255.5,-0.5 103.5,-0.5\" stroke=\"black\"/>\n",
       "<text font-family=\"Times,serif\" font-size=\"14.00\" text-anchor=\"middle\" x=\"179.5\" y=\"-14.8\">decoder_softmax: Dense</text>\n",
       "</g>\n",
       "<!-- 139945393066672&#45;&gt;139944530977064 -->\n",
       "<g class=\"edge\" id=\"edge7\"><title>139945393066672-&gt;139944530977064</title>\n",
       "<path d=\"M179.5,-73.3129C179.5,-65.2895 179.5,-55.5475 179.5,-46.5691\" fill=\"none\" stroke=\"black\"/>\n",
       "<polygon fill=\"black\" points=\"183,-46.5288 179.5,-36.5288 176,-46.5289 183,-46.5288\" stroke=\"black\"/>\n",
       "</g>\n",
       "</g>\n",
       "</svg>"
      ],
      "text/plain": [
       "<IPython.core.display.SVG object>"
      ]
     },
     "execution_count": 345,
     "metadata": {},
     "output_type": "execute_result"
    }
   ],
   "source": [
    "from IPython.display import SVG\n",
    "from keras.utils.vis_utils import model_to_dot\n",
    "\n",
    "SVG(model_to_dot(model).create(prog=\"dot\",format=\"svg\"))"
   ]
  },
  {
   "cell_type": "code",
   "execution_count": 346,
   "metadata": {},
   "outputs": [
    {
     "data": {
      "image/svg+xml": [
       "<svg height=\"337pt\" viewBox=\"0.00 0.00 382.00 337.00\" width=\"382pt\" xmlns=\"http://www.w3.org/2000/svg\" xmlns:xlink=\"http://www.w3.org/1999/xlink\">\n",
       "<g class=\"graph\" id=\"graph0\" transform=\"scale(1 1) rotate(0) translate(4 333)\">\n",
       "<title>G</title>\n",
       "<polygon fill=\"white\" points=\"-4,4 -4,-333 378,-333 378,4 -4,4\" stroke=\"none\"/>\n",
       "<!-- 139944533903400 -->\n",
       "<g class=\"node\" id=\"node1\"><title>139944533903400</title>\n",
       "<polygon fill=\"none\" points=\"0,-292.5 0,-328.5 167,-328.5 167,-292.5 0,-292.5\" stroke=\"black\"/>\n",
       "<text font-family=\"Times,serif\" font-size=\"14.00\" text-anchor=\"middle\" x=\"83.5\" y=\"-306.8\">encoder_inputs: InputLayer</text>\n",
       "</g>\n",
       "<!-- 139945393068016 -->\n",
       "<g class=\"node\" id=\"node3\"><title>139945393068016</title>\n",
       "<polygon fill=\"none\" points=\"3,-219.5 3,-255.5 164,-255.5 164,-219.5 3,-219.5\" stroke=\"black\"/>\n",
       "<text font-family=\"Times,serif\" font-size=\"14.00\" text-anchor=\"middle\" x=\"83.5\" y=\"-233.8\">embedding_4: Embedding</text>\n",
       "</g>\n",
       "<!-- 139944533903400&#45;&gt;139945393068016 -->\n",
       "<g class=\"edge\" id=\"edge1\"><title>139944533903400-&gt;139945393068016</title>\n",
       "<path d=\"M83.5,-292.313C83.5,-284.289 83.5,-274.547 83.5,-265.569\" fill=\"none\" stroke=\"black\"/>\n",
       "<polygon fill=\"black\" points=\"87.0001,-265.529 83.5,-255.529 80.0001,-265.529 87.0001,-265.529\" stroke=\"black\"/>\n",
       "</g>\n",
       "<!-- 139944530913600 -->\n",
       "<g class=\"node\" id=\"node2\"><title>139944530913600</title>\n",
       "<polygon fill=\"none\" points=\"192,-219.5 192,-255.5 359,-255.5 359,-219.5 192,-219.5\" stroke=\"black\"/>\n",
       "<text font-family=\"Times,serif\" font-size=\"14.00\" text-anchor=\"middle\" x=\"275.5\" y=\"-233.8\">decoder_inputs: InputLayer</text>\n",
       "</g>\n",
       "<!-- 139944530913656 -->\n",
       "<g class=\"node\" id=\"node4\"><title>139944530913656</title>\n",
       "<polygon fill=\"none\" points=\"177,-146.5 177,-182.5 374,-182.5 374,-146.5 177,-146.5\" stroke=\"black\"/>\n",
       "<text font-family=\"Times,serif\" font-size=\"14.00\" text-anchor=\"middle\" x=\"275.5\" y=\"-160.8\">decoder_embedding: Embedding</text>\n",
       "</g>\n",
       "<!-- 139944530913600&#45;&gt;139944530913656 -->\n",
       "<g class=\"edge\" id=\"edge2\"><title>139944530913600-&gt;139944530913656</title>\n",
       "<path d=\"M275.5,-219.313C275.5,-211.289 275.5,-201.547 275.5,-192.569\" fill=\"none\" stroke=\"black\"/>\n",
       "<polygon fill=\"black\" points=\"279,-192.529 275.5,-182.529 272,-192.529 279,-192.529\" stroke=\"black\"/>\n",
       "</g>\n",
       "<!-- 139944533905304 -->\n",
       "<g class=\"node\" id=\"node5\"><title>139944533905304</title>\n",
       "<polygon fill=\"none\" points=\"8.5,-146.5 8.5,-182.5 158.5,-182.5 158.5,-146.5 8.5,-146.5\" stroke=\"black\"/>\n",
       "<text font-family=\"Times,serif\" font-size=\"14.00\" text-anchor=\"middle\" x=\"83.5\" y=\"-160.8\">encoder_outputs: LSTM</text>\n",
       "</g>\n",
       "<!-- 139945393068016&#45;&gt;139944533905304 -->\n",
       "<g class=\"edge\" id=\"edge3\"><title>139945393068016-&gt;139944533905304</title>\n",
       "<path d=\"M83.5,-219.313C83.5,-211.289 83.5,-201.547 83.5,-192.569\" fill=\"none\" stroke=\"black\"/>\n",
       "<polygon fill=\"black\" points=\"87.0001,-192.529 83.5,-182.529 80.0001,-192.529 87.0001,-192.529\" stroke=\"black\"/>\n",
       "</g>\n",
       "<!-- 139945393066672 -->\n",
       "<g class=\"node\" id=\"node6\"><title>139945393066672</title>\n",
       "<polygon fill=\"none\" points=\"104.5,-73.5 104.5,-109.5 254.5,-109.5 254.5,-73.5 104.5,-73.5\" stroke=\"black\"/>\n",
       "<text font-family=\"Times,serif\" font-size=\"14.00\" text-anchor=\"middle\" x=\"179.5\" y=\"-87.8\">decoder_outputs: LSTM</text>\n",
       "</g>\n",
       "<!-- 139944530913656&#45;&gt;139945393066672 -->\n",
       "<g class=\"edge\" id=\"edge4\"><title>139944530913656-&gt;139945393066672</title>\n",
       "<path d=\"M252.261,-146.313C239.762,-137.069 224.178,-125.543 210.642,-115.532\" fill=\"none\" stroke=\"black\"/>\n",
       "<polygon fill=\"black\" points=\"212.646,-112.661 202.525,-109.529 208.484,-118.289 212.646,-112.661\" stroke=\"black\"/>\n",
       "</g>\n",
       "<!-- 139944533905304&#45;&gt;139945393066672 -->\n",
       "<g class=\"edge\" id=\"edge5\"><title>139944533905304-&gt;139945393066672</title>\n",
       "<path d=\"M106.739,-146.313C119.238,-137.069 134.822,-125.543 148.358,-115.532\" fill=\"none\" stroke=\"black\"/>\n",
       "<polygon fill=\"black\" points=\"150.516,-118.289 156.475,-109.529 146.354,-112.661 150.516,-118.289\" stroke=\"black\"/>\n",
       "</g>\n",
       "<!-- 139944530977064 -->\n",
       "<g class=\"node\" id=\"node7\"><title>139944530977064</title>\n",
       "<polygon fill=\"none\" points=\"103.5,-0.5 103.5,-36.5 255.5,-36.5 255.5,-0.5 103.5,-0.5\" stroke=\"black\"/>\n",
       "<text font-family=\"Times,serif\" font-size=\"14.00\" text-anchor=\"middle\" x=\"179.5\" y=\"-14.8\">decoder_softmax: Dense</text>\n",
       "</g>\n",
       "<!-- 139945393066672&#45;&gt;139944530977064 -->\n",
       "<g class=\"edge\" id=\"edge7\"><title>139945393066672-&gt;139944530977064</title>\n",
       "<path d=\"M179.5,-73.3129C179.5,-65.2895 179.5,-55.5475 179.5,-46.5691\" fill=\"none\" stroke=\"black\"/>\n",
       "<polygon fill=\"black\" points=\"183,-46.5288 179.5,-36.5288 176,-46.5289 183,-46.5288\" stroke=\"black\"/>\n",
       "</g>\n",
       "</g>\n",
       "</svg>"
      ],
      "text/plain": [
       "<IPython.core.display.SVG object>"
      ]
     },
     "execution_count": 346,
     "metadata": {},
     "output_type": "execute_result"
    }
   ],
   "source": [
    "from IPython.display import SVG\n",
    "from keras.utils.vis_utils import model_to_dot\n",
    "\n",
    "SVG(model_to_dot(model).create(prog='dot', format='svg'))"
   ]
  },
  {
   "cell_type": "code",
   "execution_count": 347,
   "metadata": {
    "scrolled": true
   },
   "outputs": [
    {
     "name": "stdout",
     "output_type": "stream",
     "text": [
      "Train on 1800 samples, validate on 200 samples\n",
      "Epoch 1/20\n",
      "1800/1800 [==============================] - 21s 12ms/step - loss: 3.8335 - acc: 0.4998 - val_loss: 3.3782 - val_acc: 0.5694\n",
      "Epoch 2/20\n",
      "1800/1800 [==============================] - 19s 10ms/step - loss: 3.1243 - acc: 0.5823 - val_loss: 3.3470 - val_acc: 0.5713\n",
      "Epoch 3/20\n",
      "1800/1800 [==============================] - 19s 10ms/step - loss: 2.9689 - acc: 0.5890 - val_loss: 3.3669 - val_acc: 0.5769\n",
      "Epoch 4/20\n",
      "1800/1800 [==============================] - 19s 11ms/step - loss: 2.8352 - acc: 0.5965 - val_loss: 3.3743 - val_acc: 0.5825\n",
      "Epoch 5/20\n",
      "1800/1800 [==============================] - 18s 10ms/step - loss: 2.7126 - acc: 0.5997 - val_loss: 3.4314 - val_acc: 0.5900\n",
      "Epoch 6/20\n",
      "1800/1800 [==============================] - 19s 11ms/step - loss: 2.6053 - acc: 0.6048 - val_loss: 3.3401 - val_acc: 0.5938\n",
      "Epoch 7/20\n",
      "1800/1800 [==============================] - 20s 11ms/step - loss: 2.4958 - acc: 0.6090 - val_loss: 3.4347 - val_acc: 0.5981\n",
      "Epoch 8/20\n",
      "1800/1800 [==============================] - 21s 12ms/step - loss: 2.3819 - acc: 0.6145 - val_loss: 3.4079 - val_acc: 0.5981\n",
      "Epoch 9/20\n",
      "1800/1800 [==============================] - 18s 10ms/step - loss: 2.2703 - acc: 0.6207 - val_loss: 3.4161 - val_acc: 0.6019\n",
      "Epoch 10/20\n",
      "1800/1800 [==============================] - 20s 11ms/step - loss: 2.1619 - acc: 0.6258 - val_loss: 3.4225 - val_acc: 0.5994\n",
      "Epoch 11/20\n",
      "1800/1800 [==============================] - 21s 11ms/step - loss: 2.0575 - acc: 0.6335 - val_loss: 3.3671 - val_acc: 0.5994\n",
      "Epoch 12/20\n",
      "1800/1800 [==============================] - 19s 11ms/step - loss: 1.9554 - acc: 0.6407 - val_loss: 3.4125 - val_acc: 0.6144\n",
      "Epoch 13/20\n",
      "1800/1800 [==============================] - 20s 11ms/step - loss: 1.8540 - acc: 0.6493 - val_loss: 3.4244 - val_acc: 0.6044\n",
      "Epoch 14/20\n",
      "1800/1800 [==============================] - 20s 11ms/step - loss: 1.7519 - acc: 0.6608 - val_loss: 3.3903 - val_acc: 0.6125\n",
      "Epoch 15/20\n",
      "1800/1800 [==============================] - 20s 11ms/step - loss: 1.6462 - acc: 0.6738 - val_loss: 3.4390 - val_acc: 0.6106\n",
      "Epoch 16/20\n",
      "1800/1800 [==============================] - 19s 11ms/step - loss: 1.5472 - acc: 0.6912 - val_loss: 3.4338 - val_acc: 0.6081\n",
      "Epoch 17/20\n",
      "1800/1800 [==============================] - 20s 11ms/step - loss: 1.4483 - acc: 0.7094 - val_loss: 3.5063 - val_acc: 0.6106\n",
      "Epoch 18/20\n",
      "1800/1800 [==============================] - 19s 11ms/step - loss: 1.3571 - acc: 0.7271 - val_loss: 3.4884 - val_acc: 0.6112\n",
      "Epoch 19/20\n",
      "1800/1800 [==============================] - 18s 10ms/step - loss: 1.2669 - acc: 0.7501 - val_loss: 3.5028 - val_acc: 0.6119\n",
      "Epoch 20/20\n",
      "1800/1800 [==============================] - 17s 10ms/step - loss: 1.1806 - acc: 0.7695 - val_loss: 3.5044 - val_acc: 0.6094\n"
     ]
    }
   ],
   "source": [
    "model.compile(optimizer=\"rmsprop\",loss=\"categorical_crossentropy\",metrics=[\"accuracy\"])\n",
    "\n",
    "h=model.fit([encoder_inputs,decoder_inputs],decoder_targets_one_hot,\n",
    "           batch_size=BATCH_SIZE,\n",
    "           epochs=20,\n",
    "           validation_split=0.1)\n",
    " "
   ]
  },
  {
   "cell_type": "code",
   "execution_count": 349,
   "metadata": {},
   "outputs": [
    {
     "data": {
      "image/png": "[encoded data removed]",
      "text/plain": [
       "<Figure size 432x288 with 1 Axes>"
      ]
     },
     "metadata": {
      "needs_background": "light"
     },
     "output_type": "display_data"
    },
    {
     "data": {
      "image/png": "[encoded data removed]",
      "text/plain": [
       "<Figure size 432x288 with 1 Axes>"
      ]
     },
     "metadata": {
      "needs_background": "light"
     },
     "output_type": "display_data"
    },
    {
     "name": "stderr",
     "output_type": "stream",
     "text": [
      "/usr/local/lib/python3.6/dist-packages/keras/engine/network.py:877: UserWarning: Layer decoder_outputs was passed non-serializable keyword arguments: {'initial_state': [<tf.Tensor 'encoder_outputs_4/while/Exit_3:0' shape=(?, 256) dtype=float32>, <tf.Tensor 'encoder_outputs_4/while/Exit_4:0' shape=(?, 256) dtype=float32>]}. They will not be included in the serialized model (and thus will be missing at deserialization time).\n",
      "  '. They will not be included '\n"
     ]
    }
   ],
   "source": [
    "plt.plot(h.history[\"loss\"],label=\"loss\")\n",
    "plt.plot(h.history[\"val_loss\"],label=\"val_loss\")\n",
    "plt.legend()\n",
    "plt.show()\n",
    "\n",
    "plt.plot(h.history[\"acc\"],label=\"acc\")\n",
    "plt.plot(h.history[\"val_acc\"],label=\"val_acc\")\n",
    "plt.legend()\n",
    "plt.show()\n",
    "\n",
    "model.save(\"deneme.h5\")"
   ]
  },
  {
   "cell_type": "markdown",
   "metadata": {},
   "source": [
    "## Prediction Part"
   ]
  },
  {
   "cell_type": "code",
   "execution_count": 350,
   "metadata": {},
   "outputs": [],
   "source": [
    "encoder_model=Model(encoder_inputs_placeholder,encoder_states)"
   ]
  },
  {
   "cell_type": "code",
   "execution_count": 351,
   "metadata": {},
   "outputs": [
    {
     "data": {
      "image/svg+xml": [
       "<svg height=\"191pt\" viewBox=\"0.00 0.00 175.00 191.00\" width=\"175pt\" xmlns=\"http://www.w3.org/2000/svg\" xmlns:xlink=\"http://www.w3.org/1999/xlink\">\n",
       "<g class=\"graph\" id=\"graph0\" transform=\"scale(1 1) rotate(0) translate(4 187)\">\n",
       "<title>G</title>\n",
       "<polygon fill=\"white\" points=\"-4,4 -4,-187 171,-187 171,4 -4,4\" stroke=\"none\"/>\n",
       "<!-- 139944533903400 -->\n",
       "<g class=\"node\" id=\"node1\"><title>139944533903400</title>\n",
       "<polygon fill=\"none\" points=\"-1.42109e-14,-146.5 -1.42109e-14,-182.5 167,-182.5 167,-146.5 -1.42109e-14,-146.5\" stroke=\"black\"/>\n",
       "<text font-family=\"Times,serif\" font-size=\"14.00\" text-anchor=\"middle\" x=\"83.5\" y=\"-160.8\">encoder_inputs: InputLayer</text>\n",
       "</g>\n",
       "<!-- 139945393068016 -->\n",
       "<g class=\"node\" id=\"node2\"><title>139945393068016</title>\n",
       "<polygon fill=\"none\" points=\"3,-73.5 3,-109.5 164,-109.5 164,-73.5 3,-73.5\" stroke=\"black\"/>\n",
       "<text font-family=\"Times,serif\" font-size=\"14.00\" text-anchor=\"middle\" x=\"83.5\" y=\"-87.8\">embedding_4: Embedding</text>\n",
       "</g>\n",
       "<!-- 139944533903400&#45;&gt;139945393068016 -->\n",
       "<g class=\"edge\" id=\"edge1\"><title>139944533903400-&gt;139945393068016</title>\n",
       "<path d=\"M83.5,-146.313C83.5,-138.289 83.5,-128.547 83.5,-119.569\" fill=\"none\" stroke=\"black\"/>\n",
       "<polygon fill=\"black\" points=\"87.0001,-119.529 83.5,-109.529 80.0001,-119.529 87.0001,-119.529\" stroke=\"black\"/>\n",
       "</g>\n",
       "<!-- 139944533905304 -->\n",
       "<g class=\"node\" id=\"node3\"><title>139944533905304</title>\n",
       "<polygon fill=\"none\" points=\"8.5,-0.5 8.5,-36.5 158.5,-36.5 158.5,-0.5 8.5,-0.5\" stroke=\"black\"/>\n",
       "<text font-family=\"Times,serif\" font-size=\"14.00\" text-anchor=\"middle\" x=\"83.5\" y=\"-14.8\">encoder_outputs: LSTM</text>\n",
       "</g>\n",
       "<!-- 139945393068016&#45;&gt;139944533905304 -->\n",
       "<g class=\"edge\" id=\"edge2\"><title>139945393068016-&gt;139944533905304</title>\n",
       "<path d=\"M83.5,-73.3129C83.5,-65.2895 83.5,-55.5475 83.5,-46.5691\" fill=\"none\" stroke=\"black\"/>\n",
       "<polygon fill=\"black\" points=\"87.0001,-46.5288 83.5,-36.5288 80.0001,-46.5289 87.0001,-46.5288\" stroke=\"black\"/>\n",
       "</g>\n",
       "</g>\n",
       "</svg>"
      ],
      "text/plain": [
       "<IPython.core.display.SVG object>"
      ]
     },
     "execution_count": 351,
     "metadata": {},
     "output_type": "execute_result"
    }
   ],
   "source": [
    "SVG(model_to_dot(encoder_model).create(prog=\"dot\",format=\"svg\"))"
   ]
  },
  {
   "cell_type": "code",
   "execution_count": 352,
   "metadata": {},
   "outputs": [],
   "source": [
    "decoder_state_input_h=Input(shape=(LATENT_DIM,),name=\"input_h\")\n",
    "decoder_state_input_c=Input(shape=(LATENT_DIM,),name=\"input_c\")\n",
    "decoder_states_inputs=[decoder_state_input_h,decoder_state_input_c]"
   ]
  },
  {
   "cell_type": "code",
   "execution_count": 353,
   "metadata": {},
   "outputs": [],
   "source": [
    "decoder_inputs_single=Input(shape=(1,),name=\"decoder_input\")\n",
    "decoder_inputs_single_x=decoder_embedding(decoder_inputs_single)"
   ]
  },
  {
   "cell_type": "code",
   "execution_count": 354,
   "metadata": {},
   "outputs": [
    {
     "name": "stdout",
     "output_type": "stream",
     "text": [
      "__________________________________________________________________________________________________\n",
      "Layer (type)                    Output Shape         Param #     Connected to                     \n",
      "==================================================================================================\n",
      "decoder_input (InputLayer)      (None, 1)            0                                            \n",
      "__________________________________________________________________________________________________\n",
      "decoder_embedding (Embedding)   multiple             700928      decoder_input[0][0]              \n",
      "__________________________________________________________________________________________________\n",
      "input_h (InputLayer)            (None, 256)          0                                            \n",
      "__________________________________________________________________________________________________\n",
      "input_c (InputLayer)            (None, 256)          0                                            \n",
      "__________________________________________________________________________________________________\n",
      "decoder_outputs (LSTM)          multiple             525312      decoder_embedding[1][0]          \n",
      "                                                                 input_h[0][0]                    \n",
      "                                                                 input_c[0][0]                    \n",
      "__________________________________________________________________________________________________\n",
      "decoder_softmax (Dense)         multiple             703666      decoder_outputs[1][0]            \n",
      "==================================================================================================\n",
      "Total params: 1,929,906\n",
      "Trainable params: 1,929,906\n",
      "Non-trainable params: 0\n",
      "__________________________________________________________________________________________________\n"
     ]
    }
   ],
   "source": [
    "decoder_outputs,h,c=decoder_lstm(decoder_inputs_single_x,\n",
    "                                 initial_state=decoder_states_inputs)\n",
    "\n",
    "decoder_states=[h,c]\n",
    "decoder_outputs=decoder_dense(decoder_outputs)\n",
    "\n",
    "# The sampling model\n",
    "# inputs: y(t-1), h(t-1), c(t-1)\n",
    "# outputs: y(t), h(t), c(t)\n",
    "\n",
    "decoder_model = Model(\n",
    "  [decoder_inputs_single] + decoder_states_inputs, \n",
    "  [decoder_outputs] + decoder_states\n",
    ")\n",
    "\n",
    "decoder_model.summary()"
   ]
  },
  {
   "cell_type": "code",
   "execution_count": 355,
   "metadata": {},
   "outputs": [
    {
     "data": {
      "image/svg+xml": [
       "<svg height=\"264pt\" viewBox=\"0.00 0.00 491.00 264.00\" width=\"491pt\" xmlns=\"http://www.w3.org/2000/svg\" xmlns:xlink=\"http://www.w3.org/1999/xlink\">\n",
       "<g class=\"graph\" id=\"graph0\" transform=\"scale(1 1) rotate(0) translate(4 260)\">\n",
       "<title>G</title>\n",
       "<polygon fill=\"white\" points=\"-4,4 -4,-260 487,-260 487,4 -4,4\" stroke=\"none\"/>\n",
       "<!-- 139943722839960 -->\n",
       "<g class=\"node\" id=\"node1\"><title>139943722839960</title>\n",
       "<polygon fill=\"none\" points=\"18,-219.5 18,-255.5 179,-255.5 179,-219.5 18,-219.5\" stroke=\"black\"/>\n",
       "<text font-family=\"Times,serif\" font-size=\"14.00\" text-anchor=\"middle\" x=\"98.5\" y=\"-233.8\">decoder_input: InputLayer</text>\n",
       "</g>\n",
       "<!-- 139944530913656 -->\n",
       "<g class=\"node\" id=\"node2\"><title>139944530913656</title>\n",
       "<polygon fill=\"none\" points=\"0,-146.5 0,-182.5 197,-182.5 197,-146.5 0,-146.5\" stroke=\"black\"/>\n",
       "<text font-family=\"Times,serif\" font-size=\"14.00\" text-anchor=\"middle\" x=\"98.5\" y=\"-160.8\">decoder_embedding: Embedding</text>\n",
       "</g>\n",
       "<!-- 139943722839960&#45;&gt;139944530913656 -->\n",
       "<g class=\"edge\" id=\"edge1\"><title>139943722839960-&gt;139944530913656</title>\n",
       "<path d=\"M98.5,-219.313C98.5,-211.289 98.5,-201.547 98.5,-192.569\" fill=\"none\" stroke=\"black\"/>\n",
       "<polygon fill=\"black\" points=\"102,-192.529 98.5,-182.529 95.0001,-192.529 102,-192.529\" stroke=\"black\"/>\n",
       "</g>\n",
       "<!-- 139945393066672 -->\n",
       "<g class=\"node\" id=\"node5\"><title>139945393066672</title>\n",
       "<polygon fill=\"none\" points=\"202.5,-73.5 202.5,-109.5 352.5,-109.5 352.5,-73.5 202.5,-73.5\" stroke=\"black\"/>\n",
       "<text font-family=\"Times,serif\" font-size=\"14.00\" text-anchor=\"middle\" x=\"277.5\" y=\"-87.8\">decoder_outputs: LSTM</text>\n",
       "</g>\n",
       "<!-- 139944530913656&#45;&gt;139945393066672 -->\n",
       "<g class=\"edge\" id=\"edge2\"><title>139944530913656-&gt;139945393066672</title>\n",
       "<path d=\"M141.375,-146.494C166.431,-136.555 198.25,-123.934 224.824,-113.394\" fill=\"none\" stroke=\"black\"/>\n",
       "<polygon fill=\"black\" points=\"226.35,-116.554 234.355,-109.614 223.769,-110.047 226.35,-116.554\" stroke=\"black\"/>\n",
       "</g>\n",
       "<!-- 139943677962000 -->\n",
       "<g class=\"node\" id=\"node3\"><title>139943677962000</title>\n",
       "<polygon fill=\"none\" points=\"215,-146.5 215,-182.5 340,-182.5 340,-146.5 215,-146.5\" stroke=\"black\"/>\n",
       "<text font-family=\"Times,serif\" font-size=\"14.00\" text-anchor=\"middle\" x=\"277.5\" y=\"-160.8\">input_h: InputLayer</text>\n",
       "</g>\n",
       "<!-- 139943677962000&#45;&gt;139945393066672 -->\n",
       "<g class=\"edge\" id=\"edge3\"><title>139943677962000-&gt;139945393066672</title>\n",
       "<path d=\"M277.5,-146.313C277.5,-138.289 277.5,-128.547 277.5,-119.569\" fill=\"none\" stroke=\"black\"/>\n",
       "<polygon fill=\"black\" points=\"281,-119.529 277.5,-109.529 274,-119.529 281,-119.529\" stroke=\"black\"/>\n",
       "</g>\n",
       "<!-- 139943677961048 -->\n",
       "<g class=\"node\" id=\"node4\"><title>139943677961048</title>\n",
       "<polygon fill=\"none\" points=\"358,-146.5 358,-182.5 483,-182.5 483,-146.5 358,-146.5\" stroke=\"black\"/>\n",
       "<text font-family=\"Times,serif\" font-size=\"14.00\" text-anchor=\"middle\" x=\"420.5\" y=\"-160.8\">input_c: InputLayer</text>\n",
       "</g>\n",
       "<!-- 139943677961048&#45;&gt;139945393066672 -->\n",
       "<g class=\"edge\" id=\"edge4\"><title>139943677961048-&gt;139945393066672</title>\n",
       "<path d=\"M386.248,-146.494C366.67,-136.773 341.924,-124.487 320.985,-114.09\" fill=\"none\" stroke=\"black\"/>\n",
       "<polygon fill=\"black\" points=\"322.481,-110.926 311.968,-109.614 319.368,-117.196 322.481,-110.926\" stroke=\"black\"/>\n",
       "</g>\n",
       "<!-- 139944530977064 -->\n",
       "<g class=\"node\" id=\"node6\"><title>139944530977064</title>\n",
       "<polygon fill=\"none\" points=\"201.5,-0.5 201.5,-36.5 353.5,-36.5 353.5,-0.5 201.5,-0.5\" stroke=\"black\"/>\n",
       "<text font-family=\"Times,serif\" font-size=\"14.00\" text-anchor=\"middle\" x=\"277.5\" y=\"-14.8\">decoder_softmax: Dense</text>\n",
       "</g>\n",
       "<!-- 139945393066672&#45;&gt;139944530977064 -->\n",
       "<g class=\"edge\" id=\"edge5\"><title>139945393066672-&gt;139944530977064</title>\n",
       "<path d=\"M277.5,-73.3129C277.5,-65.2895 277.5,-55.5475 277.5,-46.5691\" fill=\"none\" stroke=\"black\"/>\n",
       "<polygon fill=\"black\" points=\"281,-46.5288 277.5,-36.5288 274,-46.5289 281,-46.5288\" stroke=\"black\"/>\n",
       "</g>\n",
       "</g>\n",
       "</svg>"
      ],
      "text/plain": [
       "<IPython.core.display.SVG object>"
      ]
     },
     "execution_count": 355,
     "metadata": {},
     "output_type": "execute_result"
    }
   ],
   "source": [
    "SVG(model_to_dot(decoder_model).create(prog=\"dot\",format=\"svg\"))"
   ]
  },
  {
   "cell_type": "code",
   "execution_count": 356,
   "metadata": {},
   "outputs": [],
   "source": [
    "# to view the results\n",
    "\n",
    "idx2word_eng={v:k for k,v in word2idx_inputs.items()}\n",
    "idx2word_tur={v:k for k,v in word2idx_outputs.items()}"
   ]
  },
  {
   "cell_type": "code",
   "execution_count": 357,
   "metadata": {},
   "outputs": [
    {
     "name": "stdout",
     "output_type": "stream",
     "text": [
      "1227\n"
     ]
    },
    {
     "data": {
      "text/plain": [
       "array([[   0,    0,    0,    0,    2, 1314,   26,  588]], dtype=int32)"
      ]
     },
     "execution_count": 357,
     "metadata": {},
     "output_type": "execute_result"
    }
   ],
   "source": [
    "# Choose random a input sentence\n",
    "\n",
    "i =np.random.choice(len(input_texts))\n",
    "print(i)\n",
    "input_sen=encoder_inputs[i:i+1]\n",
    "input_sen"
   ]
  },
  {
   "cell_type": "code",
   "execution_count": 385,
   "metadata": {},
   "outputs": [
    {
     "name": "stdout",
     "output_type": "stream",
     "text": [
      "637\n",
      "translation is finished \n",
      "\n",
      "ne kadar şey musun  \n",
      "\n",
      "are you doing well \n"
     ]
    }
   ],
   "source": [
    "# Choose random a input sentence\n",
    "\n",
    "i =np.random.choice(len(input_texts))\n",
    "print(i)\n",
    "input_sen=encoder_inputs[i:i+1]\n",
    "\n",
    "states_value=encoder_model.predict(input_sen)\n",
    "\n",
    "target_seq=np.zeros((1,1))\n",
    "target_seq[0,0]=word2idx_outputs[\"sos\"]\n",
    "eos=word2idx_outputs[\"eos\"]\n",
    "\n",
    "output_sentences=[]\n",
    "\n",
    "\n",
    "for _ in range(max_len_target):\n",
    "    output_tokens,h,c=decoder_model.predict([target_seq]+states_value)\n",
    "    \n",
    "    idx=np.argmax(output_tokens[0,0,:])\n",
    "    \n",
    "    if eos==idx:\n",
    "        print(\"translation is finished\",\"\\n\")\n",
    "        break\n",
    "    \n",
    "    word =\"\"\n",
    "    \n",
    "    if idx > 0:\n",
    "        word=idx2word_tur[idx]\n",
    "        #print(word)\n",
    "        output_sentences.append(word)\n",
    "    \n",
    "   \n",
    "    target_seq[0,0]=idx\n",
    "    \n",
    "    states_value=[h,c]\n",
    "\n",
    "\n",
    "prediction=\"\"\n",
    "for i in output_sentences:\n",
    "    prediction=prediction+i\n",
    "    prediction=prediction+\" \"\n",
    "\n",
    "true=\"\"\n",
    "for i in range(input_sen.shape[1]):\n",
    "    if input_sen[0,i]==0:\n",
    "        continue\n",
    "    true=true+idx2word_eng[input_sen[0,i]]\n",
    "    true=true+\" \"\n",
    "    \n",
    "print(prediction,\"\\n\")\n",
    "print(true)"
   ]
  },
  {
   "cell_type": "code",
   "execution_count": null,
   "metadata": {},
   "outputs": [],
   "source": []
  },
  {
   "cell_type": "code",
   "execution_count": null,
   "metadata": {},
   "outputs": [],
   "source": []
  }
 ],
 "metadata": {
  "kernelspec": {
   "display_name": "Python 3",
   "language": "python",
   "name": "python3"
  },
  "language_info": {
   "codemirror_mode": {
    "name": "ipython",
    "version": 3
   },
   "file_extension": ".py",
   "mimetype": "text/x-python",
   "name": "python",
   "nbconvert_exporter": "python",
   "pygments_lexer": "ipython3",
   "version": "3.6.7"
  }
 },
 "nbformat": 4,
 "nbformat_minor": 2
}
