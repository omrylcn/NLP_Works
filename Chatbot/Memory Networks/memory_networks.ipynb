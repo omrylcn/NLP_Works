{
 "cells": [
  {
   "cell_type": "code",
   "execution_count": 1,
   "metadata": {},
   "outputs": [
    {
     "name": "stderr",
     "output_type": "stream",
     "text": [
      "Using TensorFlow backend.\n"
     ]
    }
   ],
   "source": [
    "import keras \n",
    "from keras.layers.embeddings import Embedding\n",
    "from keras.layers import Input,Activation,Dense,Permute,Dropout,merge\n",
    "from keras.layers import LSTM,GRU\n",
    "from keras.utils.data_utils import get_file\n",
    "from keras.preprocessing.sequence import pad_sequences\n",
    "from keras import backend as K\n",
    "from keras.models import Sequential,Model\n",
    "\n",
    "from functools import reduce\n",
    "import tarfile \n",
    "import numpy as np\n",
    "import re"
   ]
  },
  {
   "cell_type": "code",
   "execution_count": 2,
   "metadata": {},
   "outputs": [],
   "source": [
    "train_model=0\n",
    "train_epochs=100\n",
    "load_model=1\n",
    "batch_size=32\n",
    "lstm_size=64\n",
    "test_qualitative=0\n",
    "user_question=1"
   ]
  },
  {
   "cell_type": "code",
   "execution_count": 3,
   "metadata": {},
   "outputs": [],
   "source": [
    "def tokenize(sent):\n",
    "    return [x.strip() for x in re.split(\"(\\W+)?\",sent) if x.strip()]"
   ]
  },
  {
   "cell_type": "code",
   "execution_count": 4,
   "metadata": {},
   "outputs": [],
   "source": [
    "def parse_stories(lines,only_supporting=False):\n",
    "    \n",
    "    data=[]\n",
    "    story=[]\n",
    "    \n",
    "    for line in lines:\n",
    "        line=line.strip()\n",
    "        nid,line=line.split(\" \",1)\n",
    "        nid=int(nid)\n",
    "        \n",
    "        if nid==1:\n",
    "            story=[]\n",
    "        if \"\\t\" in line:\n",
    "            q,a,supporting=line.split(\"\\t\")\n",
    "            q=tokenize(q)\n",
    "            substory=None\n",
    "            \n",
    "            if only_supporting:\n",
    "                supporting=map(int,supporting.split())\n",
    "                substory=[story[i-1] for i in supporting]\n",
    "            else:\n",
    "                substory=[x for x in story if x]\n",
    "            \n",
    "            data.append((substory,q,a))\n",
    "            story.append(\"\")\n",
    "        else:\n",
    "            sent=tokenize(line)\n",
    "            story.append(sent)\n",
    "    return data"
   ]
  },
  {
   "cell_type": "code",
   "execution_count": 5,
   "metadata": {},
   "outputs": [],
   "source": [
    "def get_stories(f,only_supporting=False,max_length=None):\n",
    "    \n",
    "    data=parse_stories(f.readlines(),only_supporting=only_supporting)\n",
    "    flatten=lambda data:reduce(lambda x, y:x+y,data)\n",
    "    data=[(flatten(story),q,answer) for story, q, answer in data if not max_length or len(flatten(story)) < max_length]\n",
    "    \n",
    "    return data\n",
    "    "
   ]
  },
  {
   "cell_type": "code",
   "execution_count": 6,
   "metadata": {},
   "outputs": [],
   "source": [
    "train_path=\"tasks_1-20_v1-2/en-10k/qa1_single-supporting-fact_train.txt\"\n",
    "test_path=\"tasks_1-20_v1-2/en-10k/qa1_single-supporting-fact_test.txt\""
   ]
  },
  {
   "cell_type": "code",
   "execution_count": 7,
   "metadata": {},
   "outputs": [],
   "source": [
    "train_file=open(train_path) \n",
    "test_file=open(test_path)"
   ]
  },
  {
   "cell_type": "code",
   "execution_count": 8,
   "metadata": {},
   "outputs": [
    {
     "name": "stderr",
     "output_type": "stream",
     "text": [
      "/usr/lib/python3.6/re.py:212: FutureWarning: split() requires a non-empty pattern match.\n",
      "  return _compile(pattern, flags).split(string, maxsplit)\n"
     ]
    }
   ],
   "source": [
    "train_stories=get_stories(train_file)\n",
    "test_stories=get_stories(test_file)"
   ]
  },
  {
   "cell_type": "code",
   "execution_count": 9,
   "metadata": {},
   "outputs": [
    {
     "data": {
      "text/plain": [
       "(['Mary',\n",
       "  'moved',\n",
       "  'to',\n",
       "  'the',\n",
       "  'bathroom',\n",
       "  '.',\n",
       "  'John',\n",
       "  'went',\n",
       "  'to',\n",
       "  'the',\n",
       "  'hallway',\n",
       "  '.',\n",
       "  'Daniel',\n",
       "  'went',\n",
       "  'back',\n",
       "  'to',\n",
       "  'the',\n",
       "  'hallway',\n",
       "  '.',\n",
       "  'Sandra',\n",
       "  'moved',\n",
       "  'to',\n",
       "  'the',\n",
       "  'garden',\n",
       "  '.'],\n",
       " ['Where', 'is', 'Daniel', '?'],\n",
       " 'hallway')"
      ]
     },
     "execution_count": 9,
     "metadata": {},
     "output_type": "execute_result"
    }
   ],
   "source": [
    "train_stories[1]"
   ]
  },
  {
   "cell_type": "code",
   "execution_count": 10,
   "metadata": {},
   "outputs": [],
   "source": [
    "vocab=set()\n",
    "#vocab1=set()\n",
    "\n",
    "for story, q, answer in train_stories+test_stories:\n",
    "    vocab|=set(story+q+[answer])\n",
    "    #vocab1=set(story+q+[answer])\n",
    "vocab=sorted(vocab)"
   ]
  },
  {
   "cell_type": "code",
   "execution_count": 11,
   "metadata": {},
   "outputs": [],
   "source": [
    "# reserve 0 for masking via pad_sequences\n",
    "\n",
    "vocab_size=len(vocab)+1\n",
    "story_maxlen=max(map(len,(x for x,_,_ in train_stories+test_stories)))\n",
    "query_maxlen=max(map(len,(x for _,x,_ in train_stories+ test_stories)))"
   ]
  },
  {
   "cell_type": "code",
   "execution_count": 28,
   "metadata": {
    "scrolled": true
   },
   "outputs": [],
   "source": [
    "word_idx=dict((y,x+1) for x,y in enumerate(vocab))\n",
    "idx_word=dict((i+1,c) for i,c in enumerate(vocab))"
   ]
  },
  {
   "cell_type": "code",
   "execution_count": 13,
   "metadata": {},
   "outputs": [],
   "source": [
    "def vectorize_stories(data,word_idx,story_maxlen,query_maxlen):\n",
    "    X=[]\n",
    "    Xq=[]\n",
    "    Y=[]\n",
    "    for story,query,answer in data:\n",
    "        x=[word_idx[w] for w in story]\n",
    "        xq=[word_idx[w] for w in query]\n",
    "        y=np.zeros(len(word_idx)+1)\n",
    "        y[word_idx[answer]]=1\n",
    "        X.append(x)\n",
    "        Xq.append(xq)\n",
    "        Y.append(y)\n",
    "    return (pad_sequences(X,maxlen=story_maxlen),\n",
    "           pad_sequences(Xq,maxlen=query_maxlen),np.array(Y))"
   ]
  },
  {
   "cell_type": "code",
   "execution_count": 14,
   "metadata": {},
   "outputs": [],
   "source": [
    "inputs_train,queries_train,answers_train=vectorize_stories(train_stories,\n",
    "                                                           word_idx,\n",
    "                                                           story_maxlen,\n",
    "                                                           query_maxlen)"
   ]
  },
  {
   "cell_type": "code",
   "execution_count": 15,
   "metadata": {},
   "outputs": [],
   "source": [
    "inputs_test,queries_test,answers_test=vectorize_stories(test_stories,\n",
    "                                                           word_idx,\n",
    "                                                           story_maxlen,\n",
    "                                                           query_maxlen)"
   ]
  },
  {
   "cell_type": "code",
   "execution_count": 16,
   "metadata": {},
   "outputs": [
    {
     "data": {
      "text/plain": [
       "array([ 0,  0,  0,  0,  0,  0,  0,  0,  0,  0,  0,  0,  0,  0,  0,  0,  0,\n",
       "        0,  0,  0,  0,  0,  0,  0,  0,  0,  0,  0,  0,  0,  0,  0,  0,  0,\n",
       "        0,  0,  0,  0,  0,  0,  0,  0,  0,  0,  0,  0,  0,  0,  0,  0,  0,\n",
       "        0,  0,  0,  0,  0,  5, 16, 19, 18,  9,  1,  4, 21, 19, 18, 12,  1],\n",
       "      dtype=int32)"
      ]
     },
     "execution_count": 16,
     "metadata": {},
     "output_type": "execute_result"
    }
   ],
   "source": [
    "inputs_train[0]"
   ]
  },
  {
   "cell_type": "code",
   "execution_count": 17,
   "metadata": {},
   "outputs": [],
   "source": [
    "# placeholders\n",
    "input_sequence=Input((story_maxlen,))\n",
    "question=Input((query_maxlen,))"
   ]
  },
  {
   "cell_type": "code",
   "execution_count": 18,
   "metadata": {},
   "outputs": [],
   "source": [
    "# encoders\n",
    "# embed the input sequence into a sequence of vectors\n",
    "input_encoder_m=Sequential()\n",
    "input_encoder_m.add(Embedding(input_dim=vocab_size,\n",
    "                             output_dim=64))\n",
    "input_encoder_m.add(Dropout(0.3))\n",
    "\n",
    "# embed the input into a sequence of vectors of size query_maxlen\n",
    "input_encoder_c=Sequential()\n",
    "input_encoder_c.add(Embedding(input_dim=vocab_size,\n",
    "                             output_dim=query_maxlen))\n",
    "input_encoder_c.add(Dropout(0.3))\n",
    "\n",
    "# embed the question into a sequence of vectors\n",
    "question_encoder=Sequential()\n",
    "question_encoder.add(Embedding(input_dim=vocab_size,\n",
    "                              output_dim=64,\n",
    "                              input_length=query_maxlen))\n",
    "question_encoder.add(Dropout(0.3))\n"
   ]
  },
  {
   "cell_type": "code",
   "execution_count": 19,
   "metadata": {},
   "outputs": [
    {
     "name": "stdout",
     "output_type": "stream",
     "text": [
      "Input encoded m Tensor(\"sequential_1/dropout_1/cond/Merge:0\", shape=(?, 68, 64), dtype=float32)\n",
      "Input encoded c Tensor(\"sequential_2/dropout_2/cond/Merge:0\", shape=(?, 68, 4), dtype=float32)\n",
      "Question encoded Tensor(\"sequential_3/dropout_3/cond/Merge:0\", shape=(?, 4, 64), dtype=float32)\n"
     ]
    }
   ],
   "source": [
    "input_encoded_m = input_encoder_m(input_sequence)\n",
    "print('Input encoded m', input_encoded_m)\n",
    "input_encoded_c = input_encoder_c(input_sequence)\n",
    "print('Input encoded c', input_encoded_c)\n",
    "question_encoded = question_encoder(question)\n",
    "print('Question encoded', question_encoded)"
   ]
  },
  {
   "cell_type": "code",
   "execution_count": 20,
   "metadata": {},
   "outputs": [
    {
     "data": {
      "text/plain": [
       "<tf.Tensor 'activation_1/truediv:0' shape=(?, 68, 4) dtype=float32>"
      ]
     },
     "execution_count": 20,
     "metadata": {},
     "output_type": "execute_result"
    }
   ],
   "source": [
    "# compute a 'match' between the first input vector sequence and the question vector sequence\n",
    "match=merge.Dot(axes=(2,2))([input_encoded_m,question_encoded])\n",
    "match=Activation(\"softmax\")(match)\n",
    "match"
   ]
  },
  {
   "cell_type": "code",
   "execution_count": 21,
   "metadata": {},
   "outputs": [
    {
     "data": {
      "text/plain": [
       "<tf.Tensor 'permute_1/transpose:0' shape=(?, 4, 68) dtype=float32>"
      ]
     },
     "execution_count": 21,
     "metadata": {},
     "output_type": "execute_result"
    }
   ],
   "source": [
    "# add the match matrix with the second input vector sequence\n",
    "response=merge.Add()([match,input_encoded_c])# (samples, story_maxlen, query_maxlen)\n",
    "response=Permute((2,1))(response)# (samples, query_maxlen, story_maxlen)\n",
    "response"
   ]
  },
  {
   "cell_type": "code",
   "execution_count": 22,
   "metadata": {},
   "outputs": [
    {
     "data": {
      "text/plain": [
       "<tf.Tensor 'concatenate_1/concat:0' shape=(?, 4, 132) dtype=float32>"
      ]
     },
     "execution_count": 22,
     "metadata": {},
     "output_type": "execute_result"
    }
   ],
   "source": [
    "answer=merge.Concatenate()([response,question_encoded])\n",
    "answer"
   ]
  },
  {
   "cell_type": "code",
   "execution_count": 23,
   "metadata": {},
   "outputs": [],
   "source": [
    "answer=LSTM(lstm_size)(answer)\n",
    "answer=Dropout(0.3)(answer)\n",
    "answer=Dense(vocab_size)(answer)\n",
    "answer=Activation(\"softmax\")(answer)"
   ]
  },
  {
   "cell_type": "code",
   "execution_count": 24,
   "metadata": {},
   "outputs": [
    {
     "name": "stdout",
     "output_type": "stream",
     "text": [
      "__________________________________________________________________________________________________\n",
      "Layer (type)                    Output Shape         Param #     Connected to                     \n",
      "==================================================================================================\n",
      "input_1 (InputLayer)            (None, 68)           0                                            \n",
      "__________________________________________________________________________________________________\n",
      "input_2 (InputLayer)            (None, 4)            0                                            \n",
      "__________________________________________________________________________________________________\n",
      "sequential_1 (Sequential)       multiple             1408        input_1[0][0]                    \n",
      "__________________________________________________________________________________________________\n",
      "sequential_3 (Sequential)       (None, 4, 64)        1408        input_2[0][0]                    \n",
      "__________________________________________________________________________________________________\n",
      "dot_1 (Dot)                     (None, 68, 4)        0           sequential_1[1][0]               \n",
      "                                                                 sequential_3[1][0]               \n",
      "__________________________________________________________________________________________________\n",
      "activation_1 (Activation)       (None, 68, 4)        0           dot_1[0][0]                      \n",
      "__________________________________________________________________________________________________\n",
      "sequential_2 (Sequential)       multiple             88          input_1[0][0]                    \n",
      "__________________________________________________________________________________________________\n",
      "add_1 (Add)                     (None, 68, 4)        0           activation_1[0][0]               \n",
      "                                                                 sequential_2[1][0]               \n",
      "__________________________________________________________________________________________________\n",
      "permute_1 (Permute)             (None, 4, 68)        0           add_1[0][0]                      \n",
      "__________________________________________________________________________________________________\n",
      "concatenate_1 (Concatenate)     (None, 4, 132)       0           permute_1[0][0]                  \n",
      "                                                                 sequential_3[1][0]               \n",
      "__________________________________________________________________________________________________\n",
      "lstm_1 (LSTM)                   (None, 64)           50432       concatenate_1[0][0]              \n",
      "__________________________________________________________________________________________________\n",
      "dropout_4 (Dropout)             (None, 64)           0           lstm_1[0][0]                     \n",
      "__________________________________________________________________________________________________\n",
      "dense_1 (Dense)                 (None, 22)           1430        dropout_4[0][0]                  \n",
      "__________________________________________________________________________________________________\n",
      "activation_2 (Activation)       (None, 22)           0           dense_1[0][0]                    \n",
      "==================================================================================================\n",
      "Total params: 54,766\n",
      "Trainable params: 54,766\n",
      "Non-trainable params: 0\n",
      "__________________________________________________________________________________________________\n"
     ]
    }
   ],
   "source": [
    "model=Model([input_sequence,question],answer)\n",
    "model.summary()"
   ]
  },
  {
   "cell_type": "code",
   "execution_count": 25,
   "metadata": {},
   "outputs": [
    {
     "data": {
      "image/svg+xml": [
       "<svg height=\"775pt\" viewBox=\"0.00 0.00 408.00 775.00\" width=\"408pt\" xmlns=\"http://www.w3.org/2000/svg\" xmlns:xlink=\"http://www.w3.org/1999/xlink\">\n",
       "<g class=\"graph\" id=\"graph0\" transform=\"scale(1 1) rotate(0) translate(4 771)\">\n",
       "<title>G</title>\n",
       "<polygon fill=\"white\" points=\"-4,4 -4,-771 404,-771 404,4 -4,4\" stroke=\"none\"/>\n",
       "<!-- 139975272460640 -->\n",
       "<g class=\"node\" id=\"node1\"><title>139975272460640</title>\n",
       "<polygon fill=\"none\" points=\"45,-730.5 45,-766.5 170,-766.5 170,-730.5 45,-730.5\" stroke=\"black\"/>\n",
       "<text font-family=\"Times,serif\" font-size=\"14.00\" text-anchor=\"middle\" x=\"107.5\" y=\"-744.8\">input_1: InputLayer</text>\n",
       "</g>\n",
       "<!-- 139975272463272 -->\n",
       "<g class=\"node\" id=\"node3\"><title>139975272463272</title>\n",
       "<polygon fill=\"none\" points=\"84,-657.5 84,-693.5 233,-693.5 233,-657.5 84,-657.5\" stroke=\"black\"/>\n",
       "<text font-family=\"Times,serif\" font-size=\"14.00\" text-anchor=\"middle\" x=\"158.5\" y=\"-671.8\">sequential_1: Sequential</text>\n",
       "</g>\n",
       "<!-- 139975272460640&#45;&gt;139975272463272 -->\n",
       "<g class=\"edge\" id=\"edge1\"><title>139975272460640-&gt;139975272463272</title>\n",
       "<path d=\"M119.846,-730.313C125.985,-721.766 133.525,-711.269 140.31,-701.823\" fill=\"none\" stroke=\"black\"/>\n",
       "<polygon fill=\"black\" points=\"143.277,-703.693 146.268,-693.529 137.591,-699.609 143.277,-703.693\" stroke=\"black\"/>\n",
       "</g>\n",
       "<!-- 139975272463664 -->\n",
       "<g class=\"node\" id=\"node7\"><title>139975272463664</title>\n",
       "<polygon fill=\"none\" points=\"0,-584.5 0,-620.5 149,-620.5 149,-584.5 0,-584.5\" stroke=\"black\"/>\n",
       "<text font-family=\"Times,serif\" font-size=\"14.00\" text-anchor=\"middle\" x=\"74.5\" y=\"-598.8\">sequential_2: Sequential</text>\n",
       "</g>\n",
       "<!-- 139975272460640&#45;&gt;139975272463664 -->\n",
       "<g class=\"edge\" id=\"edge6\"><title>139975272460640-&gt;139975272463664</title>\n",
       "<path d=\"M93.5157,-730.357C86.3045,-720.396 78.2517,-707.229 74.5,-694 68.623,-673.277 69.0405,-648.796 70.6963,-630.524\" fill=\"none\" stroke=\"black\"/>\n",
       "<polygon fill=\"black\" points=\"74.1783,-630.878 71.776,-620.559 67.2191,-630.123 74.1783,-630.878\" stroke=\"black\"/>\n",
       "</g>\n",
       "<!-- 139975272460360 -->\n",
       "<g class=\"node\" id=\"node2\"><title>139975272460360</title>\n",
       "<polygon fill=\"none\" points=\"263,-730.5 263,-766.5 388,-766.5 388,-730.5 263,-730.5\" stroke=\"black\"/>\n",
       "<text font-family=\"Times,serif\" font-size=\"14.00\" text-anchor=\"middle\" x=\"325.5\" y=\"-744.8\">input_2: InputLayer</text>\n",
       "</g>\n",
       "<!-- 139975540471960 -->\n",
       "<g class=\"node\" id=\"node4\"><title>139975540471960</title>\n",
       "<polygon fill=\"none\" points=\"251,-657.5 251,-693.5 400,-693.5 400,-657.5 251,-657.5\" stroke=\"black\"/>\n",
       "<text font-family=\"Times,serif\" font-size=\"14.00\" text-anchor=\"middle\" x=\"325.5\" y=\"-671.8\">sequential_3: Sequential</text>\n",
       "</g>\n",
       "<!-- 139975272460360&#45;&gt;139975540471960 -->\n",
       "<g class=\"edge\" id=\"edge2\"><title>139975272460360-&gt;139975540471960</title>\n",
       "<path d=\"M325.5,-730.313C325.5,-722.289 325.5,-712.547 325.5,-703.569\" fill=\"none\" stroke=\"black\"/>\n",
       "<polygon fill=\"black\" points=\"329,-703.529 325.5,-693.529 322,-703.529 329,-703.529\" stroke=\"black\"/>\n",
       "</g>\n",
       "<!-- 139975272430448 -->\n",
       "<g class=\"node\" id=\"node5\"><title>139975272430448</title>\n",
       "<polygon fill=\"none\" points=\"176,-584.5 176,-620.5 251,-620.5 251,-584.5 176,-584.5\" stroke=\"black\"/>\n",
       "<text font-family=\"Times,serif\" font-size=\"14.00\" text-anchor=\"middle\" x=\"213.5\" y=\"-598.8\">dot_1: Dot</text>\n",
       "</g>\n",
       "<!-- 139975272463272&#45;&gt;139975272430448 -->\n",
       "<g class=\"edge\" id=\"edge3\"><title>139975272463272-&gt;139975272430448</title>\n",
       "<path d=\"M171.814,-657.313C178.502,-648.679 186.732,-638.055 194.107,-628.534\" fill=\"none\" stroke=\"black\"/>\n",
       "<polygon fill=\"black\" points=\"196.952,-630.578 200.309,-620.529 191.418,-626.291 196.952,-630.578\" stroke=\"black\"/>\n",
       "</g>\n",
       "<!-- 139975540471960&#45;&gt;139975272430448 -->\n",
       "<g class=\"edge\" id=\"edge4\"><title>139975540471960-&gt;139975272430448</title>\n",
       "<path d=\"M298.673,-657.494C283.821,-648.079 265.171,-636.255 249.111,-626.075\" fill=\"none\" stroke=\"black\"/>\n",
       "<polygon fill=\"black\" points=\"250.816,-623.012 240.496,-620.614 247.068,-628.924 250.816,-623.012\" stroke=\"black\"/>\n",
       "</g>\n",
       "<!-- 139975272430392 -->\n",
       "<g class=\"node\" id=\"node10\"><title>139975272430392</title>\n",
       "<polygon fill=\"none\" points=\"186.5,-292.5 186.5,-328.5 354.5,-328.5 354.5,-292.5 186.5,-292.5\" stroke=\"black\"/>\n",
       "<text font-family=\"Times,serif\" font-size=\"14.00\" text-anchor=\"middle\" x=\"270.5\" y=\"-306.8\">concatenate_1: Concatenate</text>\n",
       "</g>\n",
       "<!-- 139975540471960&#45;&gt;139975272430392 -->\n",
       "<g class=\"edge\" id=\"edge11\"><title>139975540471960-&gt;139975272430392</title>\n",
       "<path d=\"M324.512,-657.217C323.055,-630.192 320.5,-576.278 320.5,-530.5 320.5,-530.5 320.5,-530.5 320.5,-455.5 320.5,-412.415 300.278,-365.891 285.555,-337.727\" fill=\"none\" stroke=\"black\"/>\n",
       "<polygon fill=\"black\" points=\"288.443,-335.71 280.618,-328.567 282.281,-339.031 288.443,-335.71\" stroke=\"black\"/>\n",
       "</g>\n",
       "<!-- 139975272428936 -->\n",
       "<g class=\"node\" id=\"node6\"><title>139975272428936</title>\n",
       "<polygon fill=\"none\" points=\"139.5,-511.5 139.5,-547.5 287.5,-547.5 287.5,-511.5 139.5,-511.5\" stroke=\"black\"/>\n",
       "<text font-family=\"Times,serif\" font-size=\"14.00\" text-anchor=\"middle\" x=\"213.5\" y=\"-525.8\">activation_1: Activation</text>\n",
       "</g>\n",
       "<!-- 139975272430448&#45;&gt;139975272428936 -->\n",
       "<g class=\"edge\" id=\"edge5\"><title>139975272430448-&gt;139975272428936</title>\n",
       "<path d=\"M213.5,-584.313C213.5,-576.289 213.5,-566.547 213.5,-557.569\" fill=\"none\" stroke=\"black\"/>\n",
       "<polygon fill=\"black\" points=\"217,-557.529 213.5,-547.529 210,-557.529 217,-557.529\" stroke=\"black\"/>\n",
       "</g>\n",
       "<!-- 139975291420120 -->\n",
       "<g class=\"node\" id=\"node8\"><title>139975291420120</title>\n",
       "<polygon fill=\"none\" points=\"173.5,-438.5 173.5,-474.5 253.5,-474.5 253.5,-438.5 173.5,-438.5\" stroke=\"black\"/>\n",
       "<text font-family=\"Times,serif\" font-size=\"14.00\" text-anchor=\"middle\" x=\"213.5\" y=\"-452.8\">add_1: Add</text>\n",
       "</g>\n",
       "<!-- 139975272428936&#45;&gt;139975291420120 -->\n",
       "<g class=\"edge\" id=\"edge7\"><title>139975272428936-&gt;139975291420120</title>\n",
       "<path d=\"M213.5,-511.313C213.5,-503.289 213.5,-493.547 213.5,-484.569\" fill=\"none\" stroke=\"black\"/>\n",
       "<polygon fill=\"black\" points=\"217,-484.529 213.5,-474.529 210,-484.529 217,-484.529\" stroke=\"black\"/>\n",
       "</g>\n",
       "<!-- 139975272463664&#45;&gt;139975291420120 -->\n",
       "<g class=\"edge\" id=\"edge8\"><title>139975272463664-&gt;139975291420120</title>\n",
       "<path d=\"M82.2612,-584.275C91.639,-564.822 108.884,-533.019 130.5,-511 142.224,-499.058 157.075,-488.444 170.964,-479.882\" fill=\"none\" stroke=\"black\"/>\n",
       "<polygon fill=\"black\" points=\"173.106,-482.68 179.91,-474.559 169.526,-476.665 173.106,-482.68\" stroke=\"black\"/>\n",
       "</g>\n",
       "<!-- 139975291418440 -->\n",
       "<g class=\"node\" id=\"node9\"><title>139975291418440</title>\n",
       "<polygon fill=\"none\" points=\"157.5,-365.5 157.5,-401.5 285.5,-401.5 285.5,-365.5 157.5,-365.5\" stroke=\"black\"/>\n",
       "<text font-family=\"Times,serif\" font-size=\"14.00\" text-anchor=\"middle\" x=\"221.5\" y=\"-379.8\">permute_1: Permute</text>\n",
       "</g>\n",
       "<!-- 139975291420120&#45;&gt;139975291418440 -->\n",
       "<g class=\"edge\" id=\"edge9\"><title>139975291420120-&gt;139975291418440</title>\n",
       "<path d=\"M215.437,-438.313C216.341,-430.289 217.438,-420.547 218.45,-411.569\" fill=\"none\" stroke=\"black\"/>\n",
       "<polygon fill=\"black\" points=\"221.939,-411.858 219.581,-401.529 214.984,-411.074 221.939,-411.858\" stroke=\"black\"/>\n",
       "</g>\n",
       "<!-- 139975291418440&#45;&gt;139975272430392 -->\n",
       "<g class=\"edge\" id=\"edge10\"><title>139975291418440-&gt;139975272430392</title>\n",
       "<path d=\"M233.362,-365.313C239.26,-356.766 246.504,-346.269 253.024,-336.823\" fill=\"none\" stroke=\"black\"/>\n",
       "<polygon fill=\"black\" points=\"255.948,-338.747 258.748,-328.529 250.187,-334.771 255.948,-338.747\" stroke=\"black\"/>\n",
       "</g>\n",
       "<!-- 139975270959536 -->\n",
       "<g class=\"node\" id=\"node11\"><title>139975270959536</title>\n",
       "<polygon fill=\"none\" points=\"221.5,-219.5 221.5,-255.5 319.5,-255.5 319.5,-219.5 221.5,-219.5\" stroke=\"black\"/>\n",
       "<text font-family=\"Times,serif\" font-size=\"14.00\" text-anchor=\"middle\" x=\"270.5\" y=\"-233.8\">lstm_1: LSTM</text>\n",
       "</g>\n",
       "<!-- 139975272430392&#45;&gt;139975270959536 -->\n",
       "<g class=\"edge\" id=\"edge12\"><title>139975272430392-&gt;139975270959536</title>\n",
       "<path d=\"M270.5,-292.313C270.5,-284.289 270.5,-274.547 270.5,-265.569\" fill=\"none\" stroke=\"black\"/>\n",
       "<polygon fill=\"black\" points=\"274,-265.529 270.5,-255.529 267,-265.529 274,-265.529\" stroke=\"black\"/>\n",
       "</g>\n",
       "<!-- 139975270959592 -->\n",
       "<g class=\"node\" id=\"node12\"><title>139975270959592</title>\n",
       "<polygon fill=\"none\" points=\"208,-146.5 208,-182.5 333,-182.5 333,-146.5 208,-146.5\" stroke=\"black\"/>\n",
       "<text font-family=\"Times,serif\" font-size=\"14.00\" text-anchor=\"middle\" x=\"270.5\" y=\"-160.8\">dropout_4: Dropout</text>\n",
       "</g>\n",
       "<!-- 139975270959536&#45;&gt;139975270959592 -->\n",
       "<g class=\"edge\" id=\"edge13\"><title>139975270959536-&gt;139975270959592</title>\n",
       "<path d=\"M270.5,-219.313C270.5,-211.289 270.5,-201.547 270.5,-192.569\" fill=\"none\" stroke=\"black\"/>\n",
       "<polygon fill=\"black\" points=\"274,-192.529 270.5,-182.529 267,-192.529 274,-192.529\" stroke=\"black\"/>\n",
       "</g>\n",
       "<!-- 139975270960208 -->\n",
       "<g class=\"node\" id=\"node13\"><title>139975270960208</title>\n",
       "<polygon fill=\"none\" points=\"219.5,-73.5 219.5,-109.5 321.5,-109.5 321.5,-73.5 219.5,-73.5\" stroke=\"black\"/>\n",
       "<text font-family=\"Times,serif\" font-size=\"14.00\" text-anchor=\"middle\" x=\"270.5\" y=\"-87.8\">dense_1: Dense</text>\n",
       "</g>\n",
       "<!-- 139975270959592&#45;&gt;139975270960208 -->\n",
       "<g class=\"edge\" id=\"edge14\"><title>139975270959592-&gt;139975270960208</title>\n",
       "<path d=\"M270.5,-146.313C270.5,-138.289 270.5,-128.547 270.5,-119.569\" fill=\"none\" stroke=\"black\"/>\n",
       "<polygon fill=\"black\" points=\"274,-119.529 270.5,-109.529 267,-119.529 274,-119.529\" stroke=\"black\"/>\n",
       "</g>\n",
       "<!-- 139975270960152 -->\n",
       "<g class=\"node\" id=\"node14\"><title>139975270960152</title>\n",
       "<polygon fill=\"none\" points=\"196.5,-0.5 196.5,-36.5 344.5,-36.5 344.5,-0.5 196.5,-0.5\" stroke=\"black\"/>\n",
       "<text font-family=\"Times,serif\" font-size=\"14.00\" text-anchor=\"middle\" x=\"270.5\" y=\"-14.8\">activation_2: Activation</text>\n",
       "</g>\n",
       "<!-- 139975270960208&#45;&gt;139975270960152 -->\n",
       "<g class=\"edge\" id=\"edge15\"><title>139975270960208-&gt;139975270960152</title>\n",
       "<path d=\"M270.5,-73.3129C270.5,-65.2895 270.5,-55.5475 270.5,-46.5691\" fill=\"none\" stroke=\"black\"/>\n",
       "<polygon fill=\"black\" points=\"274,-46.5288 270.5,-36.5288 267,-46.5289 274,-46.5288\" stroke=\"black\"/>\n",
       "</g>\n",
       "</g>\n",
       "</svg>"
      ],
      "text/plain": [
       "<IPython.core.display.SVG object>"
      ]
     },
     "execution_count": 25,
     "metadata": {},
     "output_type": "execute_result"
    }
   ],
   "source": [
    "from IPython.display import SVG\n",
    "from keras.utils.vis_utils import model_to_dot\n",
    "\n",
    "SVG(model_to_dot(model).create(prog=\"dot\",format=\"svg\"))"
   ]
  },
  {
   "cell_type": "code",
   "execution_count": 26,
   "metadata": {},
   "outputs": [],
   "source": [
    "model.compile(optimizer='rmsprop', loss='categorical_crossentropy',\n",
    "              metrics=['accuracy'])"
   ]
  },
  {
   "cell_type": "code",
   "execution_count": 27,
   "metadata": {
    "scrolled": true
   },
   "outputs": [
    {
     "name": "stdout",
     "output_type": "stream",
     "text": [
      "Train on 10000 samples, validate on 1000 samples\n",
      "Epoch 1/100\n",
      "10000/10000 [==============================] - 7s 693us/step - loss: 1.8839 - acc: 0.1695 - val_loss: 1.7933 - val_acc: 0.1960\n",
      "Epoch 2/100\n",
      "10000/10000 [==============================] - 6s 625us/step - loss: 1.6767 - acc: 0.3071 - val_loss: 1.6034 - val_acc: 0.3520\n",
      "Epoch 3/100\n",
      "10000/10000 [==============================] - 6s 633us/step - loss: 1.5256 - acc: 0.4004 - val_loss: 1.4736 - val_acc: 0.4280\n",
      "Epoch 4/100\n",
      "10000/10000 [==============================] - 6s 628us/step - loss: 1.4960 - acc: 0.4068 - val_loss: 1.5076 - val_acc: 0.3900\n",
      "Epoch 5/100\n",
      "10000/10000 [==============================] - 6s 619us/step - loss: 1.4693 - acc: 0.4127 - val_loss: 1.4049 - val_acc: 0.4520\n",
      "Epoch 6/100\n",
      "10000/10000 [==============================] - 6s 608us/step - loss: 1.4238 - acc: 0.4338 - val_loss: 1.3625 - val_acc: 0.4520\n",
      "Epoch 7/100\n",
      "10000/10000 [==============================] - 6s 611us/step - loss: 1.3949 - acc: 0.4453 - val_loss: 1.3438 - val_acc: 0.4780\n",
      "Epoch 8/100\n",
      "10000/10000 [==============================] - 6s 618us/step - loss: 1.3592 - acc: 0.4656 - val_loss: 1.3183 - val_acc: 0.4680\n",
      "Epoch 9/100\n",
      "10000/10000 [==============================] - 6s 618us/step - loss: 1.3409 - acc: 0.4852 - val_loss: 1.2740 - val_acc: 0.5150\n",
      "Epoch 10/100\n",
      "10000/10000 [==============================] - 6s 612us/step - loss: 1.3171 - acc: 0.4884 - val_loss: 1.2600 - val_acc: 0.5120\n",
      "Epoch 11/100\n",
      "10000/10000 [==============================] - 6s 624us/step - loss: 1.2872 - acc: 0.5037 - val_loss: 1.2350 - val_acc: 0.5160\n",
      "Epoch 12/100\n",
      "10000/10000 [==============================] - 6s 612us/step - loss: 1.2628 - acc: 0.5060 - val_loss: 1.2111 - val_acc: 0.5290\n",
      "Epoch 13/100\n",
      "10000/10000 [==============================] - 6s 622us/step - loss: 1.2493 - acc: 0.5041 - val_loss: 1.2037 - val_acc: 0.5200\n",
      "Epoch 14/100\n",
      "10000/10000 [==============================] - 6s 627us/step - loss: 1.2259 - acc: 0.5165 - val_loss: 1.2098 - val_acc: 0.5140\n",
      "Epoch 15/100\n",
      "10000/10000 [==============================] - 6s 621us/step - loss: 1.2062 - acc: 0.5167 - val_loss: 1.2014 - val_acc: 0.5040\n",
      "Epoch 16/100\n",
      "10000/10000 [==============================] - 6s 621us/step - loss: 1.1943 - acc: 0.5202 - val_loss: 1.1765 - val_acc: 0.5100\n",
      "Epoch 17/100\n",
      "10000/10000 [==============================] - 6s 617us/step - loss: 1.1823 - acc: 0.5219 - val_loss: 1.1569 - val_acc: 0.5290\n",
      "Epoch 18/100\n",
      "10000/10000 [==============================] - 6s 623us/step - loss: 1.1674 - acc: 0.5206 - val_loss: 1.1622 - val_acc: 0.5370\n",
      "Epoch 19/100\n",
      "10000/10000 [==============================] - 6s 626us/step - loss: 1.1493 - acc: 0.5260 - val_loss: 1.1534 - val_acc: 0.5260\n",
      "Epoch 20/100\n",
      "10000/10000 [==============================] - 6s 619us/step - loss: 1.1436 - acc: 0.5248 - val_loss: 1.1705 - val_acc: 0.5240\n",
      "Epoch 21/100\n",
      "10000/10000 [==============================] - 6s 625us/step - loss: 1.1358 - acc: 0.5245 - val_loss: 1.1683 - val_acc: 0.5090\n",
      "Epoch 22/100\n",
      "10000/10000 [==============================] - 6s 618us/step - loss: 1.1291 - acc: 0.5306 - val_loss: 1.1470 - val_acc: 0.5240\n",
      "Epoch 23/100\n",
      "10000/10000 [==============================] - 6s 627us/step - loss: 1.1222 - acc: 0.5338 - val_loss: 1.1440 - val_acc: 0.5340\n",
      "Epoch 24/100\n",
      "10000/10000 [==============================] - 6s 624us/step - loss: 1.1101 - acc: 0.5307 - val_loss: 1.1341 - val_acc: 0.5420\n",
      "Epoch 25/100\n",
      "10000/10000 [==============================] - 6s 626us/step - loss: 1.0911 - acc: 0.5528 - val_loss: 1.1285 - val_acc: 0.5580\n",
      "Epoch 26/100\n",
      "10000/10000 [==============================] - 6s 626us/step - loss: 1.0705 - acc: 0.5633 - val_loss: 1.0989 - val_acc: 0.5760\n",
      "Epoch 27/100\n",
      "10000/10000 [==============================] - 6s 642us/step - loss: 1.0469 - acc: 0.5849 - val_loss: 1.0762 - val_acc: 0.5880\n",
      "Epoch 28/100\n",
      "10000/10000 [==============================] - 6s 641us/step - loss: 0.9928 - acc: 0.6157 - val_loss: 1.0144 - val_acc: 0.6120\n",
      "Epoch 29/100\n",
      "10000/10000 [==============================] - 6s 624us/step - loss: 0.9352 - acc: 0.6508 - val_loss: 0.9559 - val_acc: 0.6480\n",
      "Epoch 30/100\n",
      "10000/10000 [==============================] - 6s 622us/step - loss: 0.8554 - acc: 0.6866 - val_loss: 0.8376 - val_acc: 0.6840\n",
      "Epoch 31/100\n",
      "10000/10000 [==============================] - 6s 621us/step - loss: 0.7906 - acc: 0.7111 - val_loss: 0.7889 - val_acc: 0.7020\n",
      "Epoch 32/100\n",
      "10000/10000 [==============================] - 6s 624us/step - loss: 0.7345 - acc: 0.7325 - val_loss: 0.7271 - val_acc: 0.7230\n",
      "Epoch 33/100\n",
      "10000/10000 [==============================] - 6s 622us/step - loss: 0.6978 - acc: 0.7441 - val_loss: 0.7197 - val_acc: 0.7220\n",
      "Epoch 34/100\n",
      "10000/10000 [==============================] - 6s 628us/step - loss: 0.6672 - acc: 0.7541 - val_loss: 0.6990 - val_acc: 0.7290\n",
      "Epoch 35/100\n",
      "10000/10000 [==============================] - 6s 619us/step - loss: 0.6441 - acc: 0.7595 - val_loss: 0.6799 - val_acc: 0.7350\n",
      "Epoch 36/100\n",
      "10000/10000 [==============================] - 6s 624us/step - loss: 0.6266 - acc: 0.7633 - val_loss: 0.6922 - val_acc: 0.7290\n",
      "Epoch 37/100\n",
      "10000/10000 [==============================] - 6s 622us/step - loss: 0.6001 - acc: 0.7752 - val_loss: 0.6922 - val_acc: 0.7240\n",
      "Epoch 38/100\n",
      "10000/10000 [==============================] - 6s 621us/step - loss: 0.5908 - acc: 0.7828 - val_loss: 0.6718 - val_acc: 0.7350\n",
      "Epoch 39/100\n",
      "10000/10000 [==============================] - 6s 624us/step - loss: 0.5743 - acc: 0.7819 - val_loss: 0.6690 - val_acc: 0.7400\n",
      "Epoch 40/100\n",
      "10000/10000 [==============================] - 7s 658us/step - loss: 0.5721 - acc: 0.7872 - val_loss: 0.6879 - val_acc: 0.7310\n",
      "Epoch 41/100\n",
      "10000/10000 [==============================] - 6s 622us/step - loss: 0.5562 - acc: 0.7896 - val_loss: 0.6968 - val_acc: 0.7310\n",
      "Epoch 42/100\n",
      "10000/10000 [==============================] - 6s 616us/step - loss: 0.5360 - acc: 0.7963 - val_loss: 0.6715 - val_acc: 0.7300\n",
      "Epoch 43/100\n",
      "10000/10000 [==============================] - 6s 619us/step - loss: 0.5298 - acc: 0.7985 - val_loss: 0.6769 - val_acc: 0.7450\n",
      "Epoch 44/100\n",
      "10000/10000 [==============================] - 6s 613us/step - loss: 0.5212 - acc: 0.8014 - val_loss: 0.6596 - val_acc: 0.7470\n",
      "Epoch 45/100\n",
      "10000/10000 [==============================] - 6s 621us/step - loss: 0.5087 - acc: 0.8074 - val_loss: 0.6739 - val_acc: 0.7380\n",
      "Epoch 46/100\n",
      "10000/10000 [==============================] - 6s 613us/step - loss: 0.4958 - acc: 0.8093 - val_loss: 0.6467 - val_acc: 0.7620\n",
      "Epoch 47/100\n",
      "10000/10000 [==============================] - 6s 612us/step - loss: 0.4904 - acc: 0.8150 - val_loss: 0.6534 - val_acc: 0.7480\n",
      "Epoch 48/100\n",
      "10000/10000 [==============================] - 7s 650us/step - loss: 0.4663 - acc: 0.8206 - val_loss: 0.6351 - val_acc: 0.7670\n",
      "Epoch 49/100\n",
      "10000/10000 [==============================] - 6s 627us/step - loss: 0.4648 - acc: 0.8200 - val_loss: 0.6450 - val_acc: 0.7710\n",
      "Epoch 50/100\n",
      "10000/10000 [==============================] - 6s 604us/step - loss: 0.4473 - acc: 0.8353 - val_loss: 0.6426 - val_acc: 0.7720\n",
      "Epoch 51/100\n",
      "10000/10000 [==============================] - 6s 612us/step - loss: 0.4406 - acc: 0.8376 - val_loss: 0.6145 - val_acc: 0.7740\n",
      "Epoch 52/100\n",
      "10000/10000 [==============================] - 6s 602us/step - loss: 0.4268 - acc: 0.8459 - val_loss: 0.6017 - val_acc: 0.7870\n",
      "Epoch 53/100\n",
      "10000/10000 [==============================] - 6s 594us/step - loss: 0.4139 - acc: 0.8448 - val_loss: 0.6052 - val_acc: 0.7790\n",
      "Epoch 54/100\n",
      "10000/10000 [==============================] - 6s 588us/step - loss: 0.3939 - acc: 0.8520 - val_loss: 0.5830 - val_acc: 0.7940\n",
      "Epoch 55/100\n",
      "10000/10000 [==============================] - 6s 606us/step - loss: 0.3809 - acc: 0.8593 - val_loss: 0.5499 - val_acc: 0.7920\n",
      "Epoch 56/100\n",
      "10000/10000 [==============================] - 6s 599us/step - loss: 0.3700 - acc: 0.8622 - val_loss: 0.5773 - val_acc: 0.7990\n",
      "Epoch 57/100\n",
      "10000/10000 [==============================] - 6s 596us/step - loss: 0.3624 - acc: 0.8658 - val_loss: 0.5669 - val_acc: 0.8010\n",
      "Epoch 58/100\n",
      "10000/10000 [==============================] - 6s 593us/step - loss: 0.3477 - acc: 0.8714 - val_loss: 0.5505 - val_acc: 0.8170\n",
      "Epoch 59/100\n",
      "10000/10000 [==============================] - 6s 593us/step - loss: 0.3335 - acc: 0.8794 - val_loss: 0.5255 - val_acc: 0.8180\n",
      "Epoch 60/100\n",
      "10000/10000 [==============================] - 6s 598us/step - loss: 0.3262 - acc: 0.8809 - val_loss: 0.5249 - val_acc: 0.8200\n",
      "Epoch 61/100\n",
      "10000/10000 [==============================] - 6s 597us/step - loss: 0.3109 - acc: 0.8845 - val_loss: 0.5207 - val_acc: 0.8130\n",
      "Epoch 62/100\n",
      "10000/10000 [==============================] - 6s 630us/step - loss: 0.3132 - acc: 0.8853 - val_loss: 0.5491 - val_acc: 0.8060\n",
      "Epoch 63/100\n",
      "10000/10000 [==============================] - 6s 607us/step - loss: 0.3011 - acc: 0.8875 - val_loss: 0.5177 - val_acc: 0.8170\n",
      "Epoch 64/100\n",
      "10000/10000 [==============================] - 6s 590us/step - loss: 0.2891 - acc: 0.8930 - val_loss: 0.5492 - val_acc: 0.8050\n",
      "Epoch 65/100\n",
      "10000/10000 [==============================] - 6s 605us/step - loss: 0.2797 - acc: 0.8977 - val_loss: 0.5091 - val_acc: 0.8140\n",
      "Epoch 66/100\n",
      "10000/10000 [==============================] - 6s 592us/step - loss: 0.2781 - acc: 0.9012 - val_loss: 0.5423 - val_acc: 0.8210\n",
      "Epoch 67/100\n",
      "10000/10000 [==============================] - 6s 594us/step - loss: 0.2740 - acc: 0.9016 - val_loss: 0.5640 - val_acc: 0.8110\n",
      "Epoch 68/100\n",
      "10000/10000 [==============================] - 6s 595us/step - loss: 0.2682 - acc: 0.9026 - val_loss: 0.5290 - val_acc: 0.8100\n",
      "Epoch 69/100\n",
      "10000/10000 [==============================] - 6s 587us/step - loss: 0.2546 - acc: 0.9092 - val_loss: 0.5051 - val_acc: 0.8210\n",
      "Epoch 70/100\n",
      "10000/10000 [==============================] - 6s 596us/step - loss: 0.2429 - acc: 0.9144 - val_loss: 0.5414 - val_acc: 0.8140\n",
      "Epoch 71/100\n",
      "10000/10000 [==============================] - 6s 595us/step - loss: 0.2468 - acc: 0.9067 - val_loss: 0.5256 - val_acc: 0.8310\n",
      "Epoch 72/100\n",
      "10000/10000 [==============================] - 6s 590us/step - loss: 0.2463 - acc: 0.9072 - val_loss: 0.5100 - val_acc: 0.8180\n",
      "Epoch 73/100\n",
      "10000/10000 [==============================] - 6s 598us/step - loss: 0.2329 - acc: 0.9176 - val_loss: 0.5478 - val_acc: 0.8190\n",
      "Epoch 74/100\n",
      "10000/10000 [==============================] - 6s 590us/step - loss: 0.2281 - acc: 0.9158 - val_loss: 0.5178 - val_acc: 0.8300\n",
      "Epoch 75/100\n",
      "10000/10000 [==============================] - 6s 595us/step - loss: 0.2243 - acc: 0.9174 - val_loss: 0.5625 - val_acc: 0.8190\n",
      "Epoch 76/100\n",
      "10000/10000 [==============================] - 6s 604us/step - loss: 0.2212 - acc: 0.9187 - val_loss: 0.5494 - val_acc: 0.8260\n",
      "Epoch 77/100\n",
      "10000/10000 [==============================] - 6s 588us/step - loss: 0.2069 - acc: 0.9258 - val_loss: 0.5520 - val_acc: 0.8150\n",
      "Epoch 78/100\n",
      "10000/10000 [==============================] - 6s 586us/step - loss: 0.2045 - acc: 0.9272 - val_loss: 0.5314 - val_acc: 0.8260\n",
      "Epoch 79/100\n",
      "10000/10000 [==============================] - 6s 587us/step - loss: 0.1933 - acc: 0.9298 - val_loss: 0.5718 - val_acc: 0.8240\n",
      "Epoch 80/100\n",
      "10000/10000 [==============================] - 6s 588us/step - loss: 0.2009 - acc: 0.9307 - val_loss: 0.5243 - val_acc: 0.8290\n",
      "Epoch 81/100\n",
      "10000/10000 [==============================] - 6s 590us/step - loss: 0.1911 - acc: 0.9296 - val_loss: 0.5609 - val_acc: 0.8260\n",
      "Epoch 82/100\n",
      "10000/10000 [==============================] - 6s 618us/step - loss: 0.1898 - acc: 0.9291 - val_loss: 0.5704 - val_acc: 0.8230\n",
      "Epoch 83/100\n",
      "10000/10000 [==============================] - 6s 631us/step - loss: 0.1848 - acc: 0.9335 - val_loss: 0.5682 - val_acc: 0.8190\n",
      "Epoch 84/100\n",
      "10000/10000 [==============================] - 6s 596us/step - loss: 0.1782 - acc: 0.9350 - val_loss: 0.5441 - val_acc: 0.8190\n",
      "Epoch 85/100\n",
      "10000/10000 [==============================] - 6s 593us/step - loss: 0.1803 - acc: 0.9355 - val_loss: 0.5294 - val_acc: 0.8330\n",
      "Epoch 86/100\n",
      "10000/10000 [==============================] - 6s 593us/step - loss: 0.1725 - acc: 0.9360 - val_loss: 0.5659 - val_acc: 0.8320\n",
      "Epoch 87/100\n",
      "10000/10000 [==============================] - 6s 593us/step - loss: 0.1693 - acc: 0.9395 - val_loss: 0.5500 - val_acc: 0.8270\n",
      "Epoch 88/100\n",
      "10000/10000 [==============================] - 6s 596us/step - loss: 0.1575 - acc: 0.9433 - val_loss: 0.5858 - val_acc: 0.8380\n",
      "Epoch 89/100\n",
      "10000/10000 [==============================] - 6s 591us/step - loss: 0.1658 - acc: 0.9390 - val_loss: 0.6358 - val_acc: 0.8200\n",
      "Epoch 90/100\n",
      "10000/10000 [==============================] - 6s 594us/step - loss: 0.1569 - acc: 0.9428 - val_loss: 0.6045 - val_acc: 0.8260\n",
      "Epoch 91/100\n",
      "10000/10000 [==============================] - 6s 593us/step - loss: 0.1528 - acc: 0.9473 - val_loss: 0.5967 - val_acc: 0.8270\n",
      "Epoch 92/100\n",
      "10000/10000 [==============================] - 6s 600us/step - loss: 0.1540 - acc: 0.9462 - val_loss: 0.5939 - val_acc: 0.8290\n",
      "Epoch 93/100\n",
      "10000/10000 [==============================] - 6s 592us/step - loss: 0.1434 - acc: 0.9469 - val_loss: 0.6040 - val_acc: 0.8240\n",
      "Epoch 94/100\n",
      "10000/10000 [==============================] - 6s 591us/step - loss: 0.1473 - acc: 0.9497 - val_loss: 0.6260 - val_acc: 0.8270\n",
      "Epoch 95/100\n",
      "10000/10000 [==============================] - 6s 591us/step - loss: 0.1432 - acc: 0.9482 - val_loss: 0.6107 - val_acc: 0.8250\n",
      "Epoch 96/100\n",
      "10000/10000 [==============================] - 6s 597us/step - loss: 0.1421 - acc: 0.9487 - val_loss: 0.6271 - val_acc: 0.8260\n",
      "Epoch 97/100\n",
      "10000/10000 [==============================] - 6s 592us/step - loss: 0.1398 - acc: 0.9511 - val_loss: 0.6237 - val_acc: 0.8190\n",
      "Epoch 98/100\n",
      "10000/10000 [==============================] - 6s 599us/step - loss: 0.1337 - acc: 0.9555 - val_loss: 0.6476 - val_acc: 0.8270\n",
      "Epoch 99/100\n",
      "10000/10000 [==============================] - 6s 591us/step - loss: 0.1309 - acc: 0.9559 - val_loss: 0.6639 - val_acc: 0.8200\n",
      "Epoch 100/100\n",
      "10000/10000 [==============================] - 6s 598us/step - loss: 0.1277 - acc: 0.9539 - val_loss: 0.6575 - val_acc: 0.8170\n"
     ]
    },
    {
     "data": {
      "text/plain": [
       "<keras.callbacks.History at 0x7f4eacc46668>"
      ]
     },
     "execution_count": 27,
     "metadata": {},
     "output_type": "execute_result"
    }
   ],
   "source": [
    "model.fit([inputs_train, queries_train], answers_train, batch_size, train_epochs,\n",
    "          validation_data=([inputs_test, queries_test], answers_test))"
   ]
  },
  {
   "cell_type": "code",
   "execution_count": 31,
   "metadata": {},
   "outputs": [
    {
     "name": "stdout",
     "output_type": "stream",
     "text": [
      "History: John travelled to the hallway . Mary journeyed to the bathroom . Where is John ? | Prediction: hallway |Ground Truth: hallway\n",
      "History: John travelled to the hallway . Mary journeyed to the bathroom . Daniel went back to the bathroom . John moved to the bedroom . Where is Mary ? | Prediction: bathroom |Ground Truth: bathroom\n"
     ]
    }
   ],
   "source": [
    "for i in range(0,2):\n",
    "    current_inp=test_stories[i]\n",
    "    current_story,current_query,current_answer=vectorize_stories([current_inp],word_idx,\n",
    "                                                                story_maxlen,query_maxlen)\n",
    "    current_prediction=model.predict([current_story,current_query])\n",
    "    current_prediction=idx_word[np.argmax(current_prediction)]\n",
    "    print(\"History:\",\" \".join(current_inp[0]),\" \".join(current_inp[1]),\"| Prediction:\",\n",
    "         current_prediction ,\"|Ground Truth:\",current_inp[2])"
   ]
  },
  {
   "cell_type": "code",
   "execution_count": null,
   "metadata": {},
   "outputs": [],
   "source": []
  },
  {
   "cell_type": "code",
   "execution_count": null,
   "metadata": {},
   "outputs": [],
   "source": []
  },
  {
   "cell_type": "code",
   "execution_count": null,
   "metadata": {},
   "outputs": [],
   "source": []
  }
 ],
 "metadata": {
  "accelerator": "GPU",
  "colab": {
   "collapsed_sections": [],
   "name": "nmt_with_attention.ipynb",
   "private_outputs": true,
   "provenance": [],
   "toc_visible": true,
   "version": "0.3.2"
  },
  "kernelspec": {
   "display_name": "Python 3",
   "language": "python",
   "name": "python3"
  },
  "language_info": {
   "codemirror_mode": {
    "name": "ipython",
    "version": 3
   },
   "file_extension": ".py",
   "mimetype": "text/x-python",
   "name": "python",
   "nbconvert_exporter": "python",
   "pygments_lexer": "ipython3",
   "version": "3.6.7"
  }
 },
 "nbformat": 4,
 "nbformat_minor": 1
}
